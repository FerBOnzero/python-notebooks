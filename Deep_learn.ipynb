{
 "cells": [
  {
   "cell_type": "code",
   "execution_count": null,
   "id": "fdc0e980",
   "metadata": {
    "scrolled": true
   },
   "outputs": [],
   "source": [
    "from mxnet import autograd, gluon, image, init, np, npx\n",
    "from mxnet.gluon import nn\n",
    "from d2l import mxnet as d2l\n",
    "\n",
    "npx.set_np()"
   ]
  },
  {
   "cell_type": "code",
   "execution_count": null,
   "id": "f3fa3f48",
   "metadata": {},
   "outputs": [],
   "source": [
    "d2l.set_figsize()\n",
    "img = image.imread('../Dua_lipa.jpeg')\n",
    "d2l.plt.imshow(img.asnumpy());"
   ]
  },
  {
   "cell_type": "code",
   "execution_count": null,
   "id": "30c70b3e",
   "metadata": {},
   "outputs": [],
   "source": [
    "def apply(img, aug, num_rows=2, num_cols=4, scale=1.5):\n",
    "    Y = [aug(img) for _ in range(num_rows * num_cols)]\n",
    "    d2l.show_images(Y, num_rows, num_cols, scale=scale)"
   ]
  },
  {
   "cell_type": "code",
   "execution_count": null,
   "id": "26bcaa94",
   "metadata": {
    "scrolled": false
   },
   "outputs": [],
   "source": [
    "apply(img, gluon.data.vision.transforms.RandomFlipLeftRight())"
   ]
  },
  {
   "cell_type": "code",
   "execution_count": null,
   "id": "d28d79e4",
   "metadata": {},
   "outputs": [],
   "source": [
    "shape_aug = gluon.data.vision.transforms.RandomResizedCrop(\n",
    "    (200, 200), scale=(0.1, 1), ratio=(0.5, 2))\n",
    "apply(img, shape_aug)"
   ]
  },
  {
   "cell_type": "markdown",
   "id": "1faf19e3",
   "metadata": {},
   "source": [
    "## Object Detection"
   ]
  },
  {
   "cell_type": "code",
   "execution_count": null,
   "id": "b94afcc2",
   "metadata": {},
   "outputs": [],
   "source": [
    "#@save\n",
    "def box_corner_to_center(boxes):\n",
    "    \"\"\"Convert from (upper_left, bottom_right) to (center, width, height)\"\"\"\n",
    "    x1, y1, x2, y2 = boxes[:, 0], boxes[:, 1], boxes[:, 2], boxes[:, 3]\n",
    "    cx = (x1 + x2) / 2\n",
    "    cy = (y1 + y2) / 2\n",
    "    w = x2 - x1\n",
    "    h = y2 - y1\n",
    "    boxes = np.stack((cx, cy, w, h), axis=-1)\n",
    "    return boxes\n",
    "\n",
    "#@save\n",
    "def box_center_to_corner(boxes):\n",
    "    \"\"\"Convert from (center, width, height) to (upper_left, bottom_right)\"\"\"\n",
    "    cx, cy, w, h = boxes[:, 0], boxes[:, 1], boxes[:, 2], boxes[:, 3]\n",
    "    x1 = cx - 0.5 * w\n",
    "    y1 = cy - 0.5 * h\n",
    "    x2 = cx + 0.5 * w\n",
    "    y2 = cy + 0.5 * h\n",
    "    boxes = np.stack((x1, y1, x2, y2), axis=-1)\n",
    "    return boxes"
   ]
  },
  {
   "cell_type": "code",
   "execution_count": null,
   "id": "fe51cb52",
   "metadata": {},
   "outputs": [],
   "source": [
    "# bbox is the abbreviation for bounding box\n",
    "dog_bbox = [60.0, 45.0, 378.0, 516.0]"
   ]
  },
  {
   "cell_type": "code",
   "execution_count": null,
   "id": "321b242d",
   "metadata": {},
   "outputs": [],
   "source": [
    "boxes = np.array((dog_bbox))\n",
    "box_center_to_corner(box_corner_to_center(boxes)) - boxes"
   ]
  },
  {
   "cell_type": "code",
   "execution_count": null,
   "id": "6d290e61",
   "metadata": {},
   "outputs": [],
   "source": [
    "#@save\n",
    "def bbox_to_rect(bbox, color):\n",
    "    \"\"\"Convert bounding box to matplotlib format.\"\"\"\n",
    "    # Convert the bounding box (top-left x, top-left y, bottom-right x,\n",
    "    # bottom-right y) format to matplotlib format: ((upper-left x,\n",
    "    # upper-left y), width, height)\n",
    "    return d2l.plt.Rectangle(xy=(bbox[0], bbox[1]), width=bbox[2] - bbox[0],\n",
    "                             height=bbox[3] - bbox[1], fill=False,\n",
    "                             edgecolor=color, linewidth=2)"
   ]
  },
  {
   "cell_type": "code",
   "execution_count": null,
   "id": "659c7366",
   "metadata": {},
   "outputs": [],
   "source": [
    "fig = d2l.plt.imshow(img)\n",
    "fig.axes.add_patch(bbox_to_rect(dog_bbox, 'blue'))"
   ]
  },
  {
   "cell_type": "code",
   "execution_count": null,
   "id": "97863ffc",
   "metadata": {},
   "outputs": [],
   "source": []
  }
 ],
 "metadata": {
  "kernelspec": {
   "display_name": "Python 3",
   "language": "python",
   "name": "python3"
  },
  "language_info": {
   "codemirror_mode": {
    "name": "ipython",
    "version": 3
   },
   "file_extension": ".py",
   "mimetype": "text/x-python",
   "name": "python",
   "nbconvert_exporter": "python",
   "pygments_lexer": "ipython3",
   "version": "3.9.4"
  }
 },
 "nbformat": 4,
 "nbformat_minor": 5
}
