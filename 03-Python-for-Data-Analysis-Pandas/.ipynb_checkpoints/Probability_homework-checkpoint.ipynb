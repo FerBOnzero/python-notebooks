{
 "cells": [
  {
   "cell_type": "code",
   "execution_count": 75,
   "id": "52d73ba6",
   "metadata": {},
   "outputs": [],
   "source": [
    "import pandas as pd \n",
    "import numpy as np\n",
    "from math import factorial"
   ]
  },
  {
   "cell_type": "code",
   "execution_count": 76,
   "id": "9c1a50dd",
   "metadata": {},
   "outputs": [],
   "source": [
    "df_density_function = pd.DataFrame()"
   ]
  },
  {
   "cell_type": "code",
   "execution_count": 77,
   "id": "ba072a40",
   "metadata": {},
   "outputs": [],
   "source": [
    "factorial_10 = factorial(10)\n",
    "factorial_8 = factorial(8)\n",
    "factorial_12 = factorial(12)"
   ]
  },
  {
   "cell_type": "code",
   "execution_count": 78,
   "id": "29c08cdf",
   "metadata": {},
   "outputs": [],
   "source": [
    "def creation_densities(number_x):\n",
    "    number_x = int(number_x)\n",
    "    empty_list = []\n",
    "    reason_x = (factorial_10)/(factorial(number_x)*factorial(10-number_x))\n",
    "    for i in range(9):\n",
    "        reason_y = (factorial_8)/(factorial(i)*factorial(8-i))\n",
    "        reason_z = (factorial_12)/(factorial(12-i-number_x)*factorial(i+number_x))\n",
    "        reason_total = reason_x*reason_y*reason_z\n",
    "        reason_total = int(reason_total)\n",
    "        txt = \"{price:.0f}/{price_2:.0f}\"\n",
    "        empty_list.append(txt.format(price = reason_total, price_2 = 86493225))\n",
    "    if len(empty_list)!=9:\n",
    "        number_9 = 9-len(empty_list)\n",
    "        list_new = [0]*number_9\n",
    "        empty_list = empty_list + list_new\n",
    "    return empty_list"
   ]
  },
  {
   "cell_type": "code",
   "execution_count": 79,
   "id": "06e7ffbf",
   "metadata": {},
   "outputs": [
    {
     "ename": "ValueError",
     "evalue": "factorial() not defined for negative values",
     "output_type": "error",
     "traceback": [
      "\u001b[0;31m---------------------------------------------------------------------------\u001b[0m",
      "\u001b[0;31mValueError\u001b[0m                                Traceback (most recent call last)",
      "\u001b[0;32m<ipython-input-79-56212d97aa77>\u001b[0m in \u001b[0;36m<module>\u001b[0;34m\u001b[0m\n\u001b[0;32m----> 1\u001b[0;31m \u001b[0mprint\u001b[0m\u001b[0;34m(\u001b[0m\u001b[0mcreation_densities\u001b[0m\u001b[0;34m(\u001b[0m\u001b[0;36m5\u001b[0m\u001b[0;34m)\u001b[0m\u001b[0;34m)\u001b[0m\u001b[0;34m\u001b[0m\u001b[0;34m\u001b[0m\u001b[0m\n\u001b[0m",
      "\u001b[0;32m<ipython-input-78-e639f57c4c58>\u001b[0m in \u001b[0;36mcreation_densities\u001b[0;34m(number_x)\u001b[0m\n\u001b[1;32m      5\u001b[0m     \u001b[0;32mfor\u001b[0m \u001b[0mi\u001b[0m \u001b[0;32min\u001b[0m \u001b[0mrange\u001b[0m\u001b[0;34m(\u001b[0m\u001b[0;36m9\u001b[0m\u001b[0;34m)\u001b[0m\u001b[0;34m:\u001b[0m\u001b[0;34m\u001b[0m\u001b[0;34m\u001b[0m\u001b[0m\n\u001b[1;32m      6\u001b[0m         \u001b[0mreason_y\u001b[0m \u001b[0;34m=\u001b[0m \u001b[0;34m(\u001b[0m\u001b[0mfactorial_8\u001b[0m\u001b[0;34m)\u001b[0m\u001b[0;34m/\u001b[0m\u001b[0;34m(\u001b[0m\u001b[0mfactorial\u001b[0m\u001b[0;34m(\u001b[0m\u001b[0mi\u001b[0m\u001b[0;34m)\u001b[0m\u001b[0;34m*\u001b[0m\u001b[0mfactorial\u001b[0m\u001b[0;34m(\u001b[0m\u001b[0;36m8\u001b[0m\u001b[0;34m-\u001b[0m\u001b[0mi\u001b[0m\u001b[0;34m)\u001b[0m\u001b[0;34m)\u001b[0m\u001b[0;34m\u001b[0m\u001b[0;34m\u001b[0m\u001b[0m\n\u001b[0;32m----> 7\u001b[0;31m         \u001b[0mreason_z\u001b[0m \u001b[0;34m=\u001b[0m \u001b[0;34m(\u001b[0m\u001b[0mfactorial_12\u001b[0m\u001b[0;34m)\u001b[0m\u001b[0;34m/\u001b[0m\u001b[0;34m(\u001b[0m\u001b[0mfactorial\u001b[0m\u001b[0;34m(\u001b[0m\u001b[0;36m12\u001b[0m\u001b[0;34m-\u001b[0m\u001b[0mi\u001b[0m\u001b[0;34m-\u001b[0m\u001b[0mnumber_x\u001b[0m\u001b[0;34m)\u001b[0m\u001b[0;34m*\u001b[0m\u001b[0mfactorial\u001b[0m\u001b[0;34m(\u001b[0m\u001b[0mi\u001b[0m\u001b[0;34m+\u001b[0m\u001b[0mnumber_x\u001b[0m\u001b[0;34m)\u001b[0m\u001b[0;34m)\u001b[0m\u001b[0;34m\u001b[0m\u001b[0;34m\u001b[0m\u001b[0m\n\u001b[0m\u001b[1;32m      8\u001b[0m         \u001b[0mreason_total\u001b[0m \u001b[0;34m=\u001b[0m \u001b[0mreason_x\u001b[0m\u001b[0;34m*\u001b[0m\u001b[0mreason_y\u001b[0m\u001b[0;34m*\u001b[0m\u001b[0mreason_z\u001b[0m\u001b[0;34m\u001b[0m\u001b[0;34m\u001b[0m\u001b[0m\n\u001b[1;32m      9\u001b[0m         \u001b[0mreason_total\u001b[0m \u001b[0;34m=\u001b[0m \u001b[0mint\u001b[0m\u001b[0;34m(\u001b[0m\u001b[0mreason_total\u001b[0m\u001b[0;34m)\u001b[0m\u001b[0;34m\u001b[0m\u001b[0;34m\u001b[0m\u001b[0m\n",
      "\u001b[0;31mValueError\u001b[0m: factorial() not defined for negative values"
     ]
    }
   ],
   "source": [
    "print(creation_densities(5))"
   ]
  },
  {
   "cell_type": "code",
   "execution_count": null,
   "id": "3d84a7aa",
   "metadata": {
    "scrolled": true
   },
   "outputs": [],
   "source": [
    "for i in range(11):\n",
    "    df_density_function[i] = creation_densities(i)"
   ]
  },
  {
   "cell_type": "code",
   "execution_count": null,
   "id": "ff8572f2",
   "metadata": {},
   "outputs": [],
   "source": [
    "df_density_function"
   ]
  }
 ],
 "metadata": {
  "kernelspec": {
   "display_name": "Python 3",
   "language": "python",
   "name": "python3"
  },
  "language_info": {
   "codemirror_mode": {
    "name": "ipython",
    "version": 3
   },
   "file_extension": ".py",
   "mimetype": "text/x-python",
   "name": "python",
   "nbconvert_exporter": "python",
   "pygments_lexer": "ipython3",
   "version": "3.8.8"
  }
 },
 "nbformat": 4,
 "nbformat_minor": 5
}
