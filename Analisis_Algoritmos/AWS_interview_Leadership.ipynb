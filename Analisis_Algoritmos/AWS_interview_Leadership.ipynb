{
 "cells": [
  {
   "cell_type": "code",
   "execution_count": 45,
   "id": "24abea72",
   "metadata": {},
   "outputs": [
    {
     "name": "stdout",
     "output_type": "stream",
     "text": [
      "4. Tell me about a time when you had to make a bold and challenging decision.\n"
     ]
    }
   ],
   "source": [
    "import random\n",
    "lines = open('TemplateQuestionsPractice_Bebo.txt').read().splitlines()\n",
    "myline =random.choice(lines)\n",
    "print(myline)"
   ]
  }
 ],
 "metadata": {
  "kernelspec": {
   "display_name": "Python 3",
   "language": "python",
   "name": "python3"
  },
  "language_info": {
   "codemirror_mode": {
    "name": "ipython",
    "version": 3
   },
   "file_extension": ".py",
   "mimetype": "text/x-python",
   "name": "python",
   "nbconvert_exporter": "python",
   "pygments_lexer": "ipython3",
   "version": "3.8.8"
  }
 },
 "nbformat": 4,
 "nbformat_minor": 5
}
