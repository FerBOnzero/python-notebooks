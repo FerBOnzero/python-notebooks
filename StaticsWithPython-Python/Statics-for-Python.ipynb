{
 "cells": [
  {
   "cell_type": "markdown",
   "id": "3f5d7e36",
   "metadata": {},
   "source": [
    "# Statics with Python"
   ]
  },
  {
   "cell_type": "markdown",
   "id": "cbf0ae49",
   "metadata": {},
   "source": [
    "### Key Terms for Data Types\n",
    "##### Numeric \n",
    "   Data that are expressed on a numeric scale \n",
    "   ##### Continous \n",
    "   Data that can take on any value in an interval. (Synonyms: interval, float, numeric)\n",
    "   ##### Discrete \n",
    "   Data that can take on only integer values, such as counts. (Synonyms: integer, count)\n",
    "   \n",
    "#### Cathegorical \n",
    "   Data that can take on only a specific set of values representing a set of possible categories. (Synonyms: enums, enumerated, factors, nominal)\n",
    "   #### Binary \n",
    "   A special case of categorical data with just two categories of values, e.g., 0/1, true/false. (Synonyms: dichotomous, logical, indicator, boolean)\n",
    "   #### Ordinal \n",
    "   Categorical data that has an explicit ordering. (Synonym: ordered factor)"
   ]
  },
  {
   "cell_type": "markdown",
   "id": "70277c68",
   "metadata": {},
   "source": [
    "### Key Terms for Rectangular Data\n",
    "#### Data frame\n",
    "Key Terms for Rectangular Data\n",
    "Rectangular data (like a spreadsheet) is the basic data structure for statistical and machine learning models.\n",
    "#### Feature\n",
    "A column within a table is commonly referred to as a feature. Synonyms\n",
    "attribute, input, predictor, variable\n",
    "#### Outcome\n",
    "Many data science projects involve predicting an outcome—often a yes/no out‐ come (in Table 1-1, it is “auction was competitive or not”). The features are some‐ times used to predict the outcome in an experiment or a study.\n",
    "Synonyms\n",
    "dependent variable, response, target, output\n",
    "#### Records\n",
    "A row within a table is commonly referred to as a record."
   ]
  },
  {
   "cell_type": "markdown",
   "id": "300a9192",
   "metadata": {},
   "source": [
    "### Nonrectangular Data Structures\n",
    "There are other data structures besides rectangular data.\n",
    "#### Time series data records \n",
    "successive measurements of the same variable. It is the raw material for statistical forecasting methods, and it is also a key component of the data produced by devices—the Internet of Things.\n",
    "#### Spatial data structures,\n",
    "which are used in mapping and location analytics, are more complex and varied than rectangular data structures. In the object representation, the focus of the data is an object (e.g., a house) and its spatial coordinates. The field view, by contrast, focuses on small units of space and the value of a relevant metric (pixel brightness, for example).\n",
    "#### Graph (or network) data structures\n",
    "are used to represent physical, social, and abstract relationships. For example, a graph of a social network, such as Facebook or LinkedIn, may represent connections between people on the network. Distribution hubs connected by roads are an example of a physical network. Graph structures are useful for certain types of problems, such as network optimization and recommender systems."
   ]
  },
  {
   "cell_type": "markdown",
   "id": "8487f4a0",
   "metadata": {},
   "source": [
    "### The basic data structure in data science is a rectangular matrix in which rows are records and columns are variables (features)."
   ]
  },
  {
   "cell_type": "markdown",
   "id": "4b04491d",
   "metadata": {},
   "source": [
    "### Key Terms for Estimates of Location\n",
    "#### mean \n",
    "The sum of all values divided by the number of values.\n",
    "Synonym(average, Weighted mean)\n",
    "#### the wigthed mean\n",
    "The sum of all values times a weight divided by the sum of the weights.\n",
    "Synonym(weighted average, Median)\n",
    "#### median\n",
    "The value such that one-half of the data lies above and below.\n",
    "Synonym(50th percentile, Percentile)\n",
    "#### porcentile\n",
    "The value such that P percent of the data lies below. Synonym(quantile, Weighted median)\n",
    "#### Weighted median\n",
    "The value such that one-half of the sum of the weights lies above and below the sorted data.\n",
    "#### Trimmed mean\n",
    "The average of all values after dropping a fixed number of extreme values. Synonym(truncated mean)\n",
    "#### Robust\n",
    "Not sensitive to extreme values. Synonym(resistant)\n",
    "#### Outlier\n",
    "A data value that is very different from most of the data.\n",
    "Synonym(extreme value)"
   ]
  },
  {
   "cell_type": "code",
   "execution_count": 1,
   "id": "01b6f934",
   "metadata": {},
   "outputs": [],
   "source": [
    "import pandas as pd"
   ]
  },
  {
   "cell_type": "code",
   "execution_count": 8,
   "id": "0821d424",
   "metadata": {
    "scrolled": false
   },
   "outputs": [
    {
     "data": {
      "text/html": [
       "<div>\n",
       "<style scoped>\n",
       "    .dataframe tbody tr th:only-of-type {\n",
       "        vertical-align: middle;\n",
       "    }\n",
       "\n",
       "    .dataframe tbody tr th {\n",
       "        vertical-align: top;\n",
       "    }\n",
       "\n",
       "    .dataframe thead th {\n",
       "        text-align: right;\n",
       "    }\n",
       "</style>\n",
       "<table border=\"1\" class=\"dataframe\">\n",
       "  <thead>\n",
       "    <tr style=\"text-align: right;\">\n",
       "      <th></th>\n",
       "      <th>State</th>\n",
       "      <th>Population</th>\n",
       "      <th>Muderate</th>\n",
       "      <th>Abbreviation</th>\n",
       "    </tr>\n",
       "  </thead>\n",
       "  <tbody>\n",
       "    <tr>\n",
       "      <th>0</th>\n",
       "      <td>Alabama</td>\n",
       "      <td>4779736</td>\n",
       "      <td>5.7</td>\n",
       "      <td>AL</td>\n",
       "    </tr>\n",
       "    <tr>\n",
       "      <th>1</th>\n",
       "      <td>Alaska</td>\n",
       "      <td>710231</td>\n",
       "      <td>5.6</td>\n",
       "      <td>AK</td>\n",
       "    </tr>\n",
       "    <tr>\n",
       "      <th>2</th>\n",
       "      <td>Arizona</td>\n",
       "      <td>6392017</td>\n",
       "      <td>4.7</td>\n",
       "      <td>AZ</td>\n",
       "    </tr>\n",
       "    <tr>\n",
       "      <th>3</th>\n",
       "      <td>Arkansas</td>\n",
       "      <td>291591</td>\n",
       "      <td>5.6</td>\n",
       "      <td>AR</td>\n",
       "    </tr>\n",
       "    <tr>\n",
       "      <th>4</th>\n",
       "      <td>California</td>\n",
       "      <td>37253956</td>\n",
       "      <td>4.4</td>\n",
       "      <td>CA</td>\n",
       "    </tr>\n",
       "    <tr>\n",
       "      <th>5</th>\n",
       "      <td>Colorado</td>\n",
       "      <td>5029196</td>\n",
       "      <td>2.8</td>\n",
       "      <td>CO</td>\n",
       "    </tr>\n",
       "    <tr>\n",
       "      <th>6</th>\n",
       "      <td>Connecticut</td>\n",
       "      <td>3574097</td>\n",
       "      <td>2.4</td>\n",
       "      <td>CT</td>\n",
       "    </tr>\n",
       "    <tr>\n",
       "      <th>7</th>\n",
       "      <td>Delaware</td>\n",
       "      <td>897934</td>\n",
       "      <td>5.8</td>\n",
       "      <td>DE</td>\n",
       "    </tr>\n",
       "  </tbody>\n",
       "</table>\n",
       "</div>"
      ],
      "text/plain": [
       "         State  Population  Muderate Abbreviation\n",
       "0      Alabama     4779736       5.7           AL\n",
       "1       Alaska      710231       5.6           AK\n",
       "2      Arizona     6392017       4.7           AZ\n",
       "3     Arkansas      291591       5.6           AR\n",
       "4   California    37253956       4.4           CA\n",
       "5     Colorado     5029196       2.8           CO\n",
       "6  Connecticut     3574097       2.4           CT\n",
       "7     Delaware      897934       5.8           DE"
      ]
     },
     "execution_count": 8,
     "metadata": {},
     "output_type": "execute_result"
    }
   ],
   "source": [
    "dict_population = {'State':['Alabama', 'Alaska', 'Arizona', 'Arkansas', 'California', 'Colorado', 'Connecticut', 'Delaware'], 'Population': [4779736, 710231, 6392017, 291591, 37253956, 5029196, 3574097, 897934], 'Muderate': [5.7, 5.6, 4.7, 5.6, 4.4, 2.8, 2.4, 5.8], 'Abbreviation': ['AL', 'AK', 'AZ', 'AR', 'CA', 'CO', 'CT', 'DE']}\n",
    "df_population = pd.DataFrame(dict_population)\n",
    "df_population"
   ]
  },
  {
   "cell_type": "code",
   "execution_count": 12,
   "id": "0845c953",
   "metadata": {},
   "outputs": [
    {
     "name": "stdout",
     "output_type": "stream",
     "text": [
      "the mean of population is:  7366094.75\n",
      "the median of population is:  4176916.5\n"
     ]
    }
   ],
   "source": [
    "print('the mean of population is: ', df_population['Population'].mean())\n",
    "print('the median of population is: ', df_population['Population'].median())"
   ]
  },
  {
   "cell_type": "markdown",
   "id": "fe1127ac",
   "metadata": {},
   "source": [
    "### Note: I gonna use a database to expose some concepts of Statics :)"
   ]
  },
  {
   "cell_type": "code",
   "execution_count": 1,
   "id": "bd9c9df2",
   "metadata": {},
   "outputs": [],
   "source": [
    "import pandas as pd\n",
    "import matplotlib.pyplot as plt"
   ]
  },
  {
   "cell_type": "code",
   "execution_count": 2,
   "id": "066877fd",
   "metadata": {},
   "outputs": [
    {
     "name": "stdout",
     "output_type": "stream",
     "text": [
      "MySQL connection is closed\n"
     ]
    }
   ],
   "source": [
    "import mysql.connector\n",
    "\n",
    "try:\n",
    "    connection = mysql.connector.connect(host='localhost',\n",
    "                                         database='Universities',\n",
    "                                         user='root',\n",
    "                                         password='bebo3000')\n",
    "\n",
    "    sql_select_Query = \"select university_ranking_year.university_id, university_ranking_year.score, university_ranking_year.year, university.university_name from university_ranking_year inner join university on university_ranking_year.university_id = university.id \"\n",
    "    cursor = connection.cursor()\n",
    "    cursor.execute(sql_select_Query)\n",
    "    # get all records\n",
    "    university = cursor.fetchall()\n",
    "    #print(\"Total number of rows in table: \", cursor.rowcount)\n",
    "\n",
    "    #print(\"\\nPrinting each row\")\n",
    "    '''\n",
    "    for row in university:\n",
    "        print(\"Id = \", row[0], )\n",
    "        print(\"country_id = \", row[1])\n",
    "        print(\"university_name  = \", row[2])'''\n",
    "    df_sql_data = pd.DataFrame(university)\n",
    "except mysql.connector.Error as e:\n",
    "    print(\"Error reading data from MySQL table\", e)\n",
    "finally:\n",
    "    if connection.is_connected():\n",
    "        connection.close()\n",
    "        cursor.close()\n",
    "        print(\"MySQL connection is closed\")"
   ]
  },
  {
   "cell_type": "code",
   "execution_count": 4,
   "id": "0ad356bf",
   "metadata": {
    "scrolled": true
   },
   "outputs": [
    {
     "data": {
      "text/html": [
       "<div>\n",
       "<style scoped>\n",
       "    .dataframe tbody tr th:only-of-type {\n",
       "        vertical-align: middle;\n",
       "    }\n",
       "\n",
       "    .dataframe tbody tr th {\n",
       "        vertical-align: top;\n",
       "    }\n",
       "\n",
       "    .dataframe thead th {\n",
       "        text-align: right;\n",
       "    }\n",
       "</style>\n",
       "<table border=\"1\" class=\"dataframe\">\n",
       "  <thead>\n",
       "    <tr style=\"text-align: right;\">\n",
       "      <th></th>\n",
       "      <th>0</th>\n",
       "      <th>1</th>\n",
       "      <th>2</th>\n",
       "      <th>3</th>\n",
       "    </tr>\n",
       "  </thead>\n",
       "  <tbody>\n",
       "    <tr>\n",
       "      <th>0</th>\n",
       "      <td>1</td>\n",
       "      <td>100.0</td>\n",
       "      <td>2011</td>\n",
       "      <td>Harvard University</td>\n",
       "    </tr>\n",
       "    <tr>\n",
       "      <th>1</th>\n",
       "      <td>5</td>\n",
       "      <td>98.0</td>\n",
       "      <td>2011</td>\n",
       "      <td>California Institute of Technology</td>\n",
       "    </tr>\n",
       "    <tr>\n",
       "      <th>2</th>\n",
       "      <td>2</td>\n",
       "      <td>98.0</td>\n",
       "      <td>2011</td>\n",
       "      <td>Massachusetts Institute of Technology</td>\n",
       "    </tr>\n",
       "    <tr>\n",
       "      <th>3</th>\n",
       "      <td>3</td>\n",
       "      <td>98.0</td>\n",
       "      <td>2011</td>\n",
       "      <td>Stanford University</td>\n",
       "    </tr>\n",
       "    <tr>\n",
       "      <th>4</th>\n",
       "      <td>6</td>\n",
       "      <td>91.0</td>\n",
       "      <td>2011</td>\n",
       "      <td>Princeton University</td>\n",
       "    </tr>\n",
       "    <tr>\n",
       "      <th>...</th>\n",
       "      <td>...</td>\n",
       "      <td>...</td>\n",
       "      <td>...</td>\n",
       "      <td>...</td>\n",
       "    </tr>\n",
       "    <tr>\n",
       "      <th>11722</th>\n",
       "      <td>74</td>\n",
       "      <td>25.0</td>\n",
       "      <td>2011</td>\n",
       "      <td>Nagoya University</td>\n",
       "    </tr>\n",
       "    <tr>\n",
       "      <th>11723</th>\n",
       "      <td>119</td>\n",
       "      <td>25.0</td>\n",
       "      <td>2011</td>\n",
       "      <td>University of Bonn</td>\n",
       "    </tr>\n",
       "    <tr>\n",
       "      <th>11724</th>\n",
       "      <td>94</td>\n",
       "      <td>24.0</td>\n",
       "      <td>2011</td>\n",
       "      <td>University of Sydney</td>\n",
       "    </tr>\n",
       "    <tr>\n",
       "      <th>11725</th>\n",
       "      <td>78</td>\n",
       "      <td>24.0</td>\n",
       "      <td>2011</td>\n",
       "      <td>Case Western Reserve University</td>\n",
       "    </tr>\n",
       "    <tr>\n",
       "      <th>11726</th>\n",
       "      <td>79</td>\n",
       "      <td>24.0</td>\n",
       "      <td>2011</td>\n",
       "      <td>Tohoku University</td>\n",
       "    </tr>\n",
       "  </tbody>\n",
       "</table>\n",
       "<p>1607 rows × 4 columns</p>\n",
       "</div>"
      ],
      "text/plain": [
       "         0      1     2                                      3\n",
       "0        1  100.0  2011                     Harvard University\n",
       "1        5   98.0  2011     California Institute of Technology\n",
       "2        2   98.0  2011  Massachusetts Institute of Technology\n",
       "3        3   98.0  2011                    Stanford University\n",
       "4        6   91.0  2011                   Princeton University\n",
       "...    ...    ...   ...                                    ...\n",
       "11722   74   25.0  2011                      Nagoya University\n",
       "11723  119   25.0  2011                     University of Bonn\n",
       "11724   94   24.0  2011                   University of Sydney\n",
       "11725   78   24.0  2011        Case Western Reserve University\n",
       "11726   79   24.0  2011                      Tohoku University\n",
       "\n",
       "[1607 rows x 4 columns]"
      ]
     },
     "execution_count": 4,
     "metadata": {},
     "output_type": "execute_result"
    }
   ],
   "source": [
    "df_sql_data[df_sql_data[2]==2011]"
   ]
  },
  {
   "cell_type": "code",
   "execution_count": 5,
   "id": "baf4d935",
   "metadata": {},
   "outputs": [],
   "source": [
    "df_ranking2011 = df_sql_data[df_sql_data[2]==2011]"
   ]
  },
  {
   "cell_type": "code",
   "execution_count": 8,
   "id": "df458446",
   "metadata": {},
   "outputs": [
    {
     "data": {
      "text/plain": [
       "0        (90.0, 100.0]\n",
       "1        (90.0, 100.0]\n",
       "2        (90.0, 100.0]\n",
       "3        (90.0, 100.0]\n",
       "4        (90.0, 100.0]\n",
       "             ...      \n",
       "11722     (20.0, 30.0]\n",
       "11723     (20.0, 30.0]\n",
       "11724     (20.0, 30.0]\n",
       "11725     (20.0, 30.0]\n",
       "11726     (20.0, 30.0]\n",
       "Name: 1, Length: 1607, dtype: category\n",
       "Categories (10, interval[float64]): [(-0.1, 10.0] < (10.0, 20.0] < (20.0, 30.0] < (30.0, 40.0] ... (60.0, 70.0] < (70.0, 80.0] < (80.0, 90.0] < (90.0, 100.0]]"
      ]
     },
     "execution_count": 8,
     "metadata": {},
     "output_type": "execute_result"
    }
   ],
   "source": [
    "binnedRanking = pd.cut(df_ranking2011[1], 10)\n",
    "binnedRanking"
   ]
  }
 ],
 "metadata": {
  "kernelspec": {
   "display_name": "Python 3",
   "language": "python",
   "name": "python3"
  },
  "language_info": {
   "codemirror_mode": {
    "name": "ipython",
    "version": 3
   },
   "file_extension": ".py",
   "mimetype": "text/x-python",
   "name": "python",
   "nbconvert_exporter": "python",
   "pygments_lexer": "ipython3",
   "version": "3.8.8"
  }
 },
 "nbformat": 4,
 "nbformat_minor": 5
}
