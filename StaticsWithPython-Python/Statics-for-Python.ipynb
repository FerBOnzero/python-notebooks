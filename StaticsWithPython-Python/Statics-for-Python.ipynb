{
 "cells": [
  {
   "cell_type": "markdown",
   "id": "3f5d7e36",
   "metadata": {},
   "source": [
    "# Statics with Python"
   ]
  },
  {
   "cell_type": "markdown",
   "id": "cbf0ae49",
   "metadata": {},
   "source": [
    "### Key Terms for Data Types\n",
    "##### Numeric \n",
    "   Data that are expressed on a numeric scale \n",
    "   ##### Continous \n",
    "   Data that can take on any value in an interval. (Synonyms: interval, float, numeric)\n",
    "   ##### Discrete \n",
    "   Data that can take on only integer values, such as counts. (Synonyms: integer, count)\n",
    "   \n",
    "#### Cathegorical \n",
    "   Data that can take on only a specific set of values representing a set of possible categories. (Synonyms: enums, enumerated, factors, nominal)\n",
    "   #### Binary \n",
    "   A special case of categorical data with just two categories of values, e.g., 0/1, true/false. (Synonyms: dichotomous, logical, indicator, boolean)\n",
    "   #### Ordinal \n",
    "   Categorical data that has an explicit ordering. (Synonym: ordered factor)"
   ]
  },
  {
   "cell_type": "markdown",
   "id": "70277c68",
   "metadata": {},
   "source": [
    "### Key Terms for Rectangular Data\n",
    "#### Data frame\n",
    "Key Terms for Rectangular Data\n",
    "Rectangular data (like a spreadsheet) is the basic data structure for statistical and machine learning models.\n",
    "#### Feature\n",
    "A column within a table is commonly referred to as a feature. Synonyms\n",
    "attribute, input, predictor, variable\n",
    "#### Outcome\n",
    "Many data science projects involve predicting an outcome—often a yes/no out‐ come (in Table 1-1, it is “auction was competitive or not”). The features are some‐ times used to predict the outcome in an experiment or a study.\n",
    "Synonyms\n",
    "dependent variable, response, target, output\n",
    "#### Records\n",
    "A row within a table is commonly referred to as a record."
   ]
  },
  {
   "cell_type": "markdown",
   "id": "300a9192",
   "metadata": {},
   "source": [
    "### Nonrectangular Data Structures\n",
    "There are other data structures besides rectangular data.\n",
    "#### Time series data records \n",
    "successive measurements of the same variable. It is the raw material for statistical forecasting methods, and it is also a key component of the data produced by devices—the Internet of Things.\n",
    "#### Spatial data structures,\n",
    "which are used in mapping and location analytics, are more complex and varied than rectangular data structures. In the object representation, the focus of the data is an object (e.g., a house) and its spatial coordinates. The field view, by contrast, focuses on small units of space and the value of a relevant metric (pixel brightness, for example).\n",
    "#### Graph (or network) data structures\n",
    "are used to represent physical, social, and abstract relationships. For example, a graph of a social network, such as Facebook or LinkedIn, may represent connections between people on the network. Distribution hubs connected by roads are an example of a physical network. Graph structures are useful for certain types of problems, such as network optimization and recommender systems."
   ]
  },
  {
   "cell_type": "markdown",
   "id": "8487f4a0",
   "metadata": {},
   "source": [
    "### The basic data structure in data science is a rectangular matrix in which rows are records and columns are variables (features)."
   ]
  },
  {
   "cell_type": "markdown",
   "id": "4b04491d",
   "metadata": {},
   "source": [
    "### Key Terms for Estimates of Location\n",
    "#### mean \n",
    "The sum of all values divided by the number of values.\n",
    "Synonym(average, Weighted mean)\n",
    "#### the wigthed mean\n",
    "The sum of all values times a weight divided by the sum of the weights.\n",
    "Synonym(weighted average, Median)\n",
    "#### median\n",
    "The value such that one-half of the data lies above and below.\n",
    "Synonym(50th percentile, Percentile)\n",
    "#### porcentile\n",
    "The value such that P percent of the data lies below. Synonym(quantile, Weighted median)\n",
    "#### Weighted median\n",
    "The value such that one-half of the sum of the weights lies above and below the sorted data.\n",
    "#### Trimmed mean\n",
    "The average of all values after dropping a fixed number of extreme values. Synonym(truncated mean)\n",
    "#### Robust\n",
    "Not sensitive to extreme values. Synonym(resistant)\n",
    "#### Outlier\n",
    "A data value that is very different from most of the data.\n",
    "Synonym(extreme value)"
   ]
  },
  {
   "cell_type": "code",
   "execution_count": 1,
   "id": "01b6f934",
   "metadata": {},
   "outputs": [],
   "source": [
    "import pandas as pd"
   ]
  },
  {
   "cell_type": "code",
   "execution_count": 2,
   "id": "0821d424",
   "metadata": {
    "scrolled": false
   },
   "outputs": [
    {
     "data": {
      "text/html": [
       "<div>\n",
       "<style scoped>\n",
       "    .dataframe tbody tr th:only-of-type {\n",
       "        vertical-align: middle;\n",
       "    }\n",
       "\n",
       "    .dataframe tbody tr th {\n",
       "        vertical-align: top;\n",
       "    }\n",
       "\n",
       "    .dataframe thead th {\n",
       "        text-align: right;\n",
       "    }\n",
       "</style>\n",
       "<table border=\"1\" class=\"dataframe\">\n",
       "  <thead>\n",
       "    <tr style=\"text-align: right;\">\n",
       "      <th></th>\n",
       "      <th>State</th>\n",
       "      <th>Population</th>\n",
       "      <th>Muderate</th>\n",
       "      <th>Abbreviation</th>\n",
       "    </tr>\n",
       "  </thead>\n",
       "  <tbody>\n",
       "    <tr>\n",
       "      <th>0</th>\n",
       "      <td>Alabama</td>\n",
       "      <td>4779736</td>\n",
       "      <td>5.7</td>\n",
       "      <td>AL</td>\n",
       "    </tr>\n",
       "    <tr>\n",
       "      <th>1</th>\n",
       "      <td>Alaska</td>\n",
       "      <td>710231</td>\n",
       "      <td>5.6</td>\n",
       "      <td>AK</td>\n",
       "    </tr>\n",
       "    <tr>\n",
       "      <th>2</th>\n",
       "      <td>Arizona</td>\n",
       "      <td>6392017</td>\n",
       "      <td>4.7</td>\n",
       "      <td>AZ</td>\n",
       "    </tr>\n",
       "    <tr>\n",
       "      <th>3</th>\n",
       "      <td>Arkansas</td>\n",
       "      <td>291591</td>\n",
       "      <td>5.6</td>\n",
       "      <td>AR</td>\n",
       "    </tr>\n",
       "    <tr>\n",
       "      <th>4</th>\n",
       "      <td>California</td>\n",
       "      <td>37253956</td>\n",
       "      <td>4.4</td>\n",
       "      <td>CA</td>\n",
       "    </tr>\n",
       "    <tr>\n",
       "      <th>5</th>\n",
       "      <td>Colorado</td>\n",
       "      <td>5029196</td>\n",
       "      <td>2.8</td>\n",
       "      <td>CO</td>\n",
       "    </tr>\n",
       "    <tr>\n",
       "      <th>6</th>\n",
       "      <td>Connecticut</td>\n",
       "      <td>3574097</td>\n",
       "      <td>2.4</td>\n",
       "      <td>CT</td>\n",
       "    </tr>\n",
       "    <tr>\n",
       "      <th>7</th>\n",
       "      <td>Delaware</td>\n",
       "      <td>897934</td>\n",
       "      <td>5.8</td>\n",
       "      <td>DE</td>\n",
       "    </tr>\n",
       "  </tbody>\n",
       "</table>\n",
       "</div>"
      ],
      "text/plain": [
       "         State  Population  Muderate Abbreviation\n",
       "0      Alabama     4779736       5.7           AL\n",
       "1       Alaska      710231       5.6           AK\n",
       "2      Arizona     6392017       4.7           AZ\n",
       "3     Arkansas      291591       5.6           AR\n",
       "4   California    37253956       4.4           CA\n",
       "5     Colorado     5029196       2.8           CO\n",
       "6  Connecticut     3574097       2.4           CT\n",
       "7     Delaware      897934       5.8           DE"
      ]
     },
     "execution_count": 2,
     "metadata": {},
     "output_type": "execute_result"
    }
   ],
   "source": [
    "dict_population = {'State':['Alabama', 'Alaska', 'Arizona', 'Arkansas', 'California', 'Colorado', 'Connecticut', 'Delaware'], 'Population': [4779736, 710231, 6392017, 291591, 37253956, 5029196, 3574097, 897934], 'Muderate': [5.7, 5.6, 4.7, 5.6, 4.4, 2.8, 2.4, 5.8], 'Abbreviation': ['AL', 'AK', 'AZ', 'AR', 'CA', 'CO', 'CT', 'DE']}\n",
    "df_population = pd.DataFrame(dict_population)\n",
    "df_population"
   ]
  },
  {
   "cell_type": "code",
   "execution_count": 3,
   "id": "0845c953",
   "metadata": {},
   "outputs": [
    {
     "name": "stdout",
     "output_type": "stream",
     "text": [
      "the mean of population is:  7366094.75\n",
      "the median of population is:  4176916.5\n"
     ]
    }
   ],
   "source": [
    "print('the mean of population is: ', df_population['Population'].mean())\n",
    "print('the median of population is: ', df_population['Population'].median())"
   ]
  },
  {
   "cell_type": "markdown",
   "id": "fe1127ac",
   "metadata": {},
   "source": [
    "### Note: I gonna use a database to expose some concepts of Statics :)"
   ]
  },
  {
   "cell_type": "code",
   "execution_count": 4,
   "id": "bd9c9df2",
   "metadata": {},
   "outputs": [],
   "source": [
    "import pandas as pd\n",
    "import matplotlib.pyplot as plt"
   ]
  },
  {
   "cell_type": "code",
   "execution_count": 5,
   "id": "066877fd",
   "metadata": {},
   "outputs": [
    {
     "name": "stdout",
     "output_type": "stream",
     "text": [
      "Error reading data from MySQL table 2003: Can't connect to MySQL server on 'localhost:3306' (61 Connection refused)\n"
     ]
    },
    {
     "ename": "NameError",
     "evalue": "name 'connection' is not defined",
     "output_type": "error",
     "traceback": [
      "\u001b[0;31m---------------------------------------------------------------------------\u001b[0m",
      "\u001b[0;31mNameError\u001b[0m                                 Traceback (most recent call last)",
      "\u001b[0;32m<ipython-input-5-7cd95f6b52f1>\u001b[0m in \u001b[0;36m<module>\u001b[0;34m\u001b[0m\n\u001b[1;32m     24\u001b[0m     \u001b[0mprint\u001b[0m\u001b[0;34m(\u001b[0m\u001b[0;34m\"Error reading data from MySQL table\"\u001b[0m\u001b[0;34m,\u001b[0m \u001b[0me\u001b[0m\u001b[0;34m)\u001b[0m\u001b[0;34m\u001b[0m\u001b[0;34m\u001b[0m\u001b[0m\n\u001b[1;32m     25\u001b[0m \u001b[0;32mfinally\u001b[0m\u001b[0;34m:\u001b[0m\u001b[0;34m\u001b[0m\u001b[0;34m\u001b[0m\u001b[0m\n\u001b[0;32m---> 26\u001b[0;31m     \u001b[0;32mif\u001b[0m \u001b[0mconnection\u001b[0m\u001b[0;34m.\u001b[0m\u001b[0mis_connected\u001b[0m\u001b[0;34m(\u001b[0m\u001b[0;34m)\u001b[0m\u001b[0;34m:\u001b[0m\u001b[0;34m\u001b[0m\u001b[0;34m\u001b[0m\u001b[0m\n\u001b[0m\u001b[1;32m     27\u001b[0m         \u001b[0mconnection\u001b[0m\u001b[0;34m.\u001b[0m\u001b[0mclose\u001b[0m\u001b[0;34m(\u001b[0m\u001b[0;34m)\u001b[0m\u001b[0;34m\u001b[0m\u001b[0;34m\u001b[0m\u001b[0m\n\u001b[1;32m     28\u001b[0m         \u001b[0mcursor\u001b[0m\u001b[0;34m.\u001b[0m\u001b[0mclose\u001b[0m\u001b[0;34m(\u001b[0m\u001b[0;34m)\u001b[0m\u001b[0;34m\u001b[0m\u001b[0;34m\u001b[0m\u001b[0m\n",
      "\u001b[0;31mNameError\u001b[0m: name 'connection' is not defined"
     ]
    }
   ],
   "source": [
    "import mysql.connector\n",
    "\n",
    "try:\n",
    "    connection = mysql.connector.connect(host='localhost',\n",
    "                                         database='Universities',\n",
    "                                         user='root',\n",
    "                                         password='bebo3000')\n",
    "\n",
    "    sql_select_Query = \"select university_ranking_year.university_id, university_ranking_year.score, university_ranking_year.year, university.university_name from university_ranking_year inner join university on university_ranking_year.university_id = university.id \"\n",
    "    cursor = connection.cursor()\n",
    "    cursor.execute(sql_select_Query)\n",
    "    # get all records\n",
    "    university = cursor.fetchall()\n",
    "    #print(\"Total number of rows in table: \", cursor.rowcount)\n",
    "\n",
    "    #print(\"\\nPrinting each row\")\n",
    "    '''\n",
    "    for row in university:\n",
    "        print(\"Id = \", row[0], )\n",
    "        print(\"country_id = \", row[1])\n",
    "        print(\"university_name  = \", row[2])'''\n",
    "    df_sql_data = pd.DataFrame(university)\n",
    "except mysql.connector.Error as e:\n",
    "    print(\"Error reading data from MySQL table\", e)\n",
    "finally:\n",
    "    if connection.is_connected():\n",
    "        connection.close()\n",
    "        cursor.close()\n",
    "        print(\"MySQL connection is closed\")"
   ]
  },
  {
   "cell_type": "code",
   "execution_count": null,
   "id": "0ad356bf",
   "metadata": {
    "scrolled": true
   },
   "outputs": [],
   "source": [
    "df_sql_data[df_sql_data[2]==2011]"
   ]
  },
  {
   "cell_type": "code",
   "execution_count": null,
   "id": "baf4d935",
   "metadata": {},
   "outputs": [],
   "source": [
    "df_ranking2011 = df_sql_data[df_sql_data[2]==2011]"
   ]
  },
  {
   "cell_type": "code",
   "execution_count": null,
   "id": "df458446",
   "metadata": {
    "scrolled": true
   },
   "outputs": [],
   "source": [
    "binnedRanking = pd.cut(df_ranking2011[1], 10)\n",
    "binnedRanking"
   ]
  },
  {
   "cell_type": "code",
   "execution_count": 8,
   "id": "39a86cb0",
   "metadata": {},
   "outputs": [
    {
     "data": {
      "text/html": [
       "<div>\n",
       "<style scoped>\n",
       "    .dataframe tbody tr th:only-of-type {\n",
       "        vertical-align: middle;\n",
       "    }\n",
       "\n",
       "    .dataframe tbody tr th {\n",
       "        vertical-align: top;\n",
       "    }\n",
       "\n",
       "    .dataframe thead th {\n",
       "        text-align: right;\n",
       "    }\n",
       "</style>\n",
       "<table border=\"1\" class=\"dataframe\">\n",
       "  <thead>\n",
       "    <tr style=\"text-align: right;\">\n",
       "      <th></th>\n",
       "      <th>0</th>\n",
       "      <th>1</th>\n",
       "      <th>2</th>\n",
       "      <th>3</th>\n",
       "      <th>4</th>\n",
       "      <th>5</th>\n",
       "      <th>6</th>\n",
       "    </tr>\n",
       "  </thead>\n",
       "  <tbody>\n",
       "    <tr>\n",
       "      <th>0</th>\n",
       "      <td>3.1</td>\n",
       "      <td>3.3</td>\n",
       "      <td>1.7</td>\n",
       "      <td>1.2</td>\n",
       "      <td>0.7</td>\n",
       "      <td>2.3</td>\n",
       "      <td>2.9</td>\n",
       "    </tr>\n",
       "    <tr>\n",
       "      <th>1</th>\n",
       "      <td>1.8</td>\n",
       "      <td>2.3</td>\n",
       "      <td>2.2</td>\n",
       "      <td>3.5</td>\n",
       "      <td>1.7</td>\n",
       "      <td>1.6</td>\n",
       "      <td>1.4</td>\n",
       "    </tr>\n",
       "  </tbody>\n",
       "</table>\n",
       "</div>"
      ],
      "text/plain": [
       "     0    1    2    3    4    5    6\n",
       "0  3.1  3.3  1.7  1.2  0.7  2.3  2.9\n",
       "1  1.8  2.3  2.2  3.5  1.7  1.6  1.4"
      ]
     },
     "execution_count": 8,
     "metadata": {},
     "output_type": "execute_result"
    }
   ],
   "source": [
    "tratamiento_1 = [3.1,3.3,1.7,1.2,0.7,2.3,2.9]\n",
    "tratamiento_2 = [1.8,2.3,2.2,3.5,1.7,1.6,1.4]\n",
    "df_tratamientos = pd.DataFrame(data=[tratamiento_1,tratamiento_2])\n",
    "df_tratamientos"
   ]
  },
  {
   "cell_type": "code",
   "execution_count": 28,
   "id": "60bb52f2",
   "metadata": {
    "scrolled": true
   },
   "outputs": [
    {
     "data": {
      "text/plain": [
       "2.9942857142870003"
      ]
     },
     "execution_count": 28,
     "metadata": {},
     "output_type": "execute_result"
    }
   ],
   "source": [
    "((df_tratamientos.iloc[1]-2.071429)**2).sum()"
   ]
  },
  {
   "cell_type": "code",
   "execution_count": 4,
   "id": "de07d3f0",
   "metadata": {},
   "outputs": [
    {
     "data": {
      "text/html": [
       "<div>\n",
       "<style scoped>\n",
       "    .dataframe tbody tr th:only-of-type {\n",
       "        vertical-align: middle;\n",
       "    }\n",
       "\n",
       "    .dataframe tbody tr th {\n",
       "        vertical-align: top;\n",
       "    }\n",
       "\n",
       "    .dataframe thead th {\n",
       "        text-align: right;\n",
       "    }\n",
       "</style>\n",
       "<table border=\"1\" class=\"dataframe\">\n",
       "  <thead>\n",
       "    <tr style=\"text-align: right;\">\n",
       "      <th></th>\n",
       "      <th>0</th>\n",
       "      <th>1</th>\n",
       "      <th>2</th>\n",
       "    </tr>\n",
       "  </thead>\n",
       "  <tbody>\n",
       "    <tr>\n",
       "      <th>0</th>\n",
       "      <td>26</td>\n",
       "      <td>13</td>\n",
       "      <td>9</td>\n",
       "    </tr>\n",
       "    <tr>\n",
       "      <th>1</th>\n",
       "      <td>16</td>\n",
       "      <td>27</td>\n",
       "      <td>14</td>\n",
       "    </tr>\n",
       "    <tr>\n",
       "      <th>2</th>\n",
       "      <td>8</td>\n",
       "      <td>10</td>\n",
       "      <td>27</td>\n",
       "    </tr>\n",
       "  </tbody>\n",
       "</table>\n",
       "</div>"
      ],
      "text/plain": [
       "    0   1   2\n",
       "0  26  13   9\n",
       "1  16  27  14\n",
       "2   8  10  27"
      ]
     },
     "execution_count": 4,
     "metadata": {},
     "output_type": "execute_result"
    }
   ],
   "source": [
    "import pandas as pd\n",
    "import seaborn as sns\n",
    "import matplotlib.pyplot as plot\n",
    "\n",
    "bajo_riesgo = [26,13,9]\n",
    "mediano_riesgo = [16,27,14]\n",
    "alto_riesgo = [8,10,27]\n",
    "df_problem2 = pd.DataFrame(data=[bajo_riesgo, mediano_riesgo, alto_riesgo])\n",
    "df_problem2"
   ]
  },
  {
   "cell_type": "code",
   "execution_count": 5,
   "id": "1d9e517b",
   "metadata": {},
   "outputs": [
    {
     "data": {
      "image/png": "[encoded data removed]",
      "text/plain": [
       "<Figure size 432x288 with 2 Axes>"
      ]
     },
     "metadata": {
      "needs_background": "light"
     },
     "output_type": "display_data"
    }
   ],
   "source": [
    "sns.heatmap(df_problem2.corr(), annot = True)\n",
    "\n",
    "plot.show()"
   ]
  }
 ],
 "metadata": {
  "kernelspec": {
   "display_name": "Python 3 (ipykernel)",
   "language": "python",
   "name": "python3"
  },
  "language_info": {
   "codemirror_mode": {
    "name": "ipython",
    "version": 3
   },
   "file_extension": ".py",
   "mimetype": "text/x-python",
   "name": "python",
   "nbconvert_exporter": "python",
   "pygments_lexer": "ipython3",
   "version": "3.8.12"
  }
 },
 "nbformat": 4,
 "nbformat_minor": 5
}
