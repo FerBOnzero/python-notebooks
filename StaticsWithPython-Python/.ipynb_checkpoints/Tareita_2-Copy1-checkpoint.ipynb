{
 "cells": [
  {
   "cell_type": "markdown",
   "id": "38471b5d",
   "metadata": {},
   "source": [
    "# Tareita 2"
   ]
  },
  {
   "cell_type": "markdown",
   "id": "0776d938",
   "metadata": {},
   "source": [
    "### 1.- Importamos los modulos necesarios:"
   ]
  },
  {
   "cell_type": "code",
   "execution_count": 61,
   "id": "8f768941",
   "metadata": {},
   "outputs": [],
   "source": [
    "import numpy as np\n",
    "import pandas as pd\n",
    "import matplotlib.pyplot as plt\n",
    "from numpy import random\n",
    "import benfords \n",
    "from benfordslaw import benfordslaw\n",
    "import re"
   ]
  },
  {
   "cell_type": "code",
   "execution_count": 88,
   "id": "37062b70",
   "metadata": {},
   "outputs": [],
   "source": [
    "def prob_digit(d):\n",
    "    d = int(d)\n",
    "    prob_d = np.log10(1 + 1/d)\n",
    "    return prob_d"
   ]
  },
  {
   "cell_type": "code",
   "execution_count": 16,
   "id": "8636bb9b",
   "metadata": {},
   "outputs": [
    {
     "ename": "ZeroDivisionError",
     "evalue": "division by zero",
     "output_type": "error",
     "traceback": [
      "\u001b[0;31m---------------------------------------------------------------------------\u001b[0m",
      "\u001b[0;31mZeroDivisionError\u001b[0m                         Traceback (most recent call last)",
      "\u001b[0;32m<ipython-input-16-1544c328b91f>\u001b[0m in \u001b[0;36m<module>\u001b[0;34m\u001b[0m\n\u001b[0;32m----> 1\u001b[0;31m \u001b[0mprob_digit\u001b[0m\u001b[0;34m(\u001b[0m\u001b[0;34m-\u001b[0m\u001b[0;36m0.02377352\u001b[0m\u001b[0;34m)\u001b[0m\u001b[0;34m\u001b[0m\u001b[0;34m\u001b[0m\u001b[0m\n\u001b[0m",
      "\u001b[0;32m<ipython-input-6-aa3d588ec80d>\u001b[0m in \u001b[0;36mprob_digit\u001b[0;34m(d)\u001b[0m\n\u001b[1;32m      1\u001b[0m \u001b[0;32mdef\u001b[0m \u001b[0mprob_digit\u001b[0m\u001b[0;34m(\u001b[0m\u001b[0md\u001b[0m\u001b[0;34m)\u001b[0m\u001b[0;34m:\u001b[0m\u001b[0;34m\u001b[0m\u001b[0;34m\u001b[0m\u001b[0m\n\u001b[1;32m      2\u001b[0m     \u001b[0md\u001b[0m \u001b[0;34m=\u001b[0m \u001b[0mint\u001b[0m\u001b[0;34m(\u001b[0m\u001b[0md\u001b[0m\u001b[0;34m)\u001b[0m\u001b[0;34m\u001b[0m\u001b[0;34m\u001b[0m\u001b[0m\n\u001b[0;32m----> 3\u001b[0;31m     \u001b[0mprob_d\u001b[0m \u001b[0;34m=\u001b[0m \u001b[0mnp\u001b[0m\u001b[0;34m.\u001b[0m\u001b[0mlog10\u001b[0m\u001b[0;34m(\u001b[0m\u001b[0;36m1\u001b[0m \u001b[0;34m+\u001b[0m \u001b[0;36m1\u001b[0m\u001b[0;34m/\u001b[0m\u001b[0md\u001b[0m\u001b[0;34m)\u001b[0m\u001b[0;34m\u001b[0m\u001b[0;34m\u001b[0m\u001b[0m\n\u001b[0m\u001b[1;32m      4\u001b[0m     \u001b[0;32mreturn\u001b[0m \u001b[0mprob_d\u001b[0m\u001b[0;34m\u001b[0m\u001b[0;34m\u001b[0m\u001b[0m\n",
      "\u001b[0;31mZeroDivisionError\u001b[0m: division by zero"
     ]
    }
   ],
   "source": [
    "prob_digit(-0.02377352)"
   ]
  },
  {
   "cell_type": "code",
   "execution_count": 5,
   "id": "04cce797",
   "metadata": {},
   "outputs": [
    {
     "data": {
      "text/plain": [
       "array([], dtype=float64)"
      ]
     },
     "execution_count": 5,
     "metadata": {},
     "output_type": "execute_result"
    }
   ],
   "source": [
    "x_normal[x_normal == 0]"
   ]
  },
  {
   "cell_type": "code",
   "execution_count": 79,
   "id": "5c353621",
   "metadata": {
    "scrolled": true
   },
   "outputs": [],
   "source": [
    "x_normal = np.random.normal(0, 1, 40000)"
   ]
  },
  {
   "cell_type": "markdown",
   "id": "b4f36cdf",
   "metadata": {},
   "source": [
    "### 2.- Utilizamos la función benfords( ) del modulo benfords de Python:"
   ]
  },
  {
   "cell_type": "code",
   "execution_count": 84,
   "id": "c6ea4e15",
   "metadata": {},
   "outputs": [],
   "source": [
    "def digito_distinto_cero(array):\n",
    "    letters = {\n",
    "        '1': 0,\n",
    "        '2': 0,\n",
    "        '3': 0,\n",
    "        '4': 0,\n",
    "        '5': 0,\n",
    "        '6': 0,\n",
    "        '7': 0,\n",
    "        '8': 0,\n",
    "        '9': 0\n",
    "    }\n",
    "    for n in array:\n",
    "        n = str(n)\n",
    "        num_list = re.findall(r'\\d+', n)\n",
    "        n = num_list[1]\n",
    "        n = int(n)\n",
    "        n = str(n)[0]\n",
    "        letters[n] += 1\n",
    "    return list(letters.values())"
   ]
  },
  {
   "cell_type": "code",
   "execution_count": 90,
   "id": "49b6d674",
   "metadata": {
    "scrolled": true
   },
   "outputs": [],
   "source": [
    "x_normal_digits = digito_distinto_cero(x_normal)"
   ]
  },
  {
   "cell_type": "code",
   "execution_count": 104,
   "id": "2290f67c",
   "metadata": {},
   "outputs": [],
   "source": [
    "my_list = []\n",
    "for i in range(1, 10):\n",
    "    my_list.append(prob_digit(i)*40000)"
   ]
  },
  {
   "cell_type": "code",
   "execution_count": 73,
   "id": "acb7bf36",
   "metadata": {},
   "outputs": [
    {
     "data": {
      "text/plain": [
       "array([ 1.5252976 , -0.38335311,  0.24968807, ..., -0.30735466,\n",
       "        1.78593363,  1.63923238])"
      ]
     },
     "execution_count": 73,
     "metadata": {},
     "output_type": "execute_result"
    }
   ],
   "source": [
    "x_normal"
   ]
  },
  {
   "cell_type": "code",
   "execution_count": 106,
   "id": "2f1226c6",
   "metadata": {},
   "outputs": [
    {
     "data": {
      "image/png": "[encoded data removed]",
      "text/plain": [
       "<Figure size 432x288 with 1 Axes>"
      ]
     },
     "metadata": {
      "needs_background": "light"
     },
     "output_type": "display_data"
    }
   ],
   "source": [
    "plt.plot(range(1,10), my_list, color='b')\n",
    "\n",
    "plt.plot(range(1,10), (digito_distinto_cero(x_normal)), color='g')\n",
    "\n",
    "plt.show()"
   ]
  },
  {
   "cell_type": "code",
   "execution_count": 85,
   "id": "4e56256a",
   "metadata": {},
   "outputs": [],
   "source": [
    "def benford(d):\n",
    "    return benfords.benfords(test_data)"
   ]
  },
  {
   "cell_type": "code",
   "execution_count": 10,
   "id": "25d469fc",
   "metadata": {
    "scrolled": true
   },
   "outputs": [
    {
     "data": {
      "text/plain": [
       "array([-2.02377352])"
      ]
     },
     "execution_count": 10,
     "metadata": {},
     "output_type": "execute_result"
    }
   ],
   "source": [
    "x_normal"
   ]
  },
  {
   "cell_type": "markdown",
   "id": "9d8ba73c",
   "metadata": {},
   "source": [
    "### 3.- Generamos las distribuciones solicitadas"
   ]
  },
  {
   "cell_type": "code",
   "execution_count": 124,
   "id": "95e8571a",
   "metadata": {
    "scrolled": true
   },
   "outputs": [
    {
     "data": {
      "text/plain": [
       "array([ 0.25252251, -1.27709117, -1.50722538, ..., -0.33175292,\n",
       "       -0.5051288 , -0.20094918])"
      ]
     },
     "execution_count": 124,
     "metadata": {},
     "output_type": "execute_result"
    }
   ],
   "source": [
    "x_normal"
   ]
  },
  {
   "cell_type": "code",
   "execution_count": 132,
   "id": "dc711601",
   "metadata": {},
   "outputs": [
    {
     "name": "stdout",
     "output_type": "stream",
     "text": [
      "[benfordslaw] >[[ 0.25252251 -1.27709117 -1.50722538 ... -0.33175292 -0.5051288\n",
      " -0.20094918]] does not exists. Try \"USA\" or \"RUS\" <return>\n"
     ]
    },
    {
     "name": "stderr",
     "output_type": "stream",
     "text": [
      "/opt/anaconda3/lib/python3.8/site-packages/benfordslaw/benfordslaw.py:221: FutureWarning: elementwise comparison failed; returning scalar instead, but in the future will perform elementwise comparison\n",
      "  if data=='USA':\n",
      "/opt/anaconda3/lib/python3.8/site-packages/benfordslaw/benfordslaw.py:223: FutureWarning: elementwise comparison failed; returning scalar instead, but in the future will perform elementwise comparison\n",
      "  elif data=='RUS':\n"
     ]
    },
    {
     "ename": "UnboundLocalError",
     "evalue": "local variable 'url' referenced before assignment",
     "output_type": "error",
     "traceback": [
      "\u001b[0;31m---------------------------------------------------------------------------\u001b[0m",
      "\u001b[0;31mUnboundLocalError\u001b[0m                         Traceback (most recent call last)",
      "\u001b[0;32m<ipython-input-132-31d3c445018d>\u001b[0m in \u001b[0;36m<module>\u001b[0;34m\u001b[0m\n\u001b[1;32m      3\u001b[0m \u001b[0;34m\u001b[0m\u001b[0m\n\u001b[1;32m      4\u001b[0m \u001b[0;31m# Load elections example\u001b[0m\u001b[0;34m\u001b[0m\u001b[0;34m\u001b[0m\u001b[0;34m\u001b[0m\u001b[0m\n\u001b[0;32m----> 5\u001b[0;31m \u001b[0mdf\u001b[0m \u001b[0;34m=\u001b[0m \u001b[0mbl\u001b[0m\u001b[0;34m.\u001b[0m\u001b[0mimport_example\u001b[0m\u001b[0;34m(\u001b[0m\u001b[0mdata\u001b[0m\u001b[0;34m=\u001b[0m\u001b[0mx_normal\u001b[0m\u001b[0;34m)\u001b[0m\u001b[0;34m\u001b[0m\u001b[0;34m\u001b[0m\u001b[0m\n\u001b[0m\u001b[1;32m      6\u001b[0m \u001b[0;34m\u001b[0m\u001b[0m\n\u001b[1;32m      7\u001b[0m \u001b[0;31m# Extract election information.\u001b[0m\u001b[0;34m\u001b[0m\u001b[0;34m\u001b[0m\u001b[0;34m\u001b[0m\u001b[0m\n",
      "\u001b[0;32m/opt/anaconda3/lib/python3.8/site-packages/benfordslaw/benfordslaw.py\u001b[0m in \u001b[0;36mimport_example\u001b[0;34m(self, data, verbose)\u001b[0m\n\u001b[1;32m    227\u001b[0m \u001b[0;34m\u001b[0m\u001b[0m\n\u001b[1;32m    228\u001b[0m         \u001b[0mcurpath\u001b[0m \u001b[0;34m=\u001b[0m \u001b[0mos\u001b[0m\u001b[0;34m.\u001b[0m\u001b[0mpath\u001b[0m\u001b[0;34m.\u001b[0m\u001b[0mjoin\u001b[0m\u001b[0;34m(\u001b[0m\u001b[0mos\u001b[0m\u001b[0;34m.\u001b[0m\u001b[0mpath\u001b[0m\u001b[0;34m.\u001b[0m\u001b[0mdirname\u001b[0m\u001b[0;34m(\u001b[0m\u001b[0mos\u001b[0m\u001b[0;34m.\u001b[0m\u001b[0mpath\u001b[0m\u001b[0;34m.\u001b[0m\u001b[0mabspath\u001b[0m\u001b[0;34m(\u001b[0m\u001b[0m__file__\u001b[0m\u001b[0;34m)\u001b[0m\u001b[0;34m)\u001b[0m\u001b[0;34m,\u001b[0m \u001b[0;34m'data'\u001b[0m\u001b[0;34m)\u001b[0m\u001b[0;34m\u001b[0m\u001b[0;34m\u001b[0m\u001b[0m\n\u001b[0;32m--> 229\u001b[0;31m         \u001b[0mPATH_TO_DATA\u001b[0m \u001b[0;34m=\u001b[0m \u001b[0mos\u001b[0m\u001b[0;34m.\u001b[0m\u001b[0mpath\u001b[0m\u001b[0;34m.\u001b[0m\u001b[0mjoin\u001b[0m\u001b[0;34m(\u001b[0m\u001b[0mcurpath\u001b[0m\u001b[0;34m,\u001b[0m \u001b[0mwget\u001b[0m\u001b[0;34m.\u001b[0m\u001b[0mfilename_from_url\u001b[0m\u001b[0;34m(\u001b[0m\u001b[0murl\u001b[0m\u001b[0;34m)\u001b[0m\u001b[0;34m)\u001b[0m\u001b[0;34m\u001b[0m\u001b[0;34m\u001b[0m\u001b[0m\n\u001b[0m\u001b[1;32m    230\u001b[0m         \u001b[0;32mif\u001b[0m \u001b[0;32mnot\u001b[0m \u001b[0mos\u001b[0m\u001b[0;34m.\u001b[0m\u001b[0mpath\u001b[0m\u001b[0;34m.\u001b[0m\u001b[0misdir\u001b[0m\u001b[0;34m(\u001b[0m\u001b[0mcurpath\u001b[0m\u001b[0;34m)\u001b[0m\u001b[0;34m:\u001b[0m\u001b[0;34m\u001b[0m\u001b[0;34m\u001b[0m\u001b[0m\n\u001b[1;32m    231\u001b[0m             \u001b[0mos\u001b[0m\u001b[0;34m.\u001b[0m\u001b[0mmakedirs\u001b[0m\u001b[0;34m(\u001b[0m\u001b[0mcurpath\u001b[0m\u001b[0;34m,\u001b[0m \u001b[0mexist_ok\u001b[0m\u001b[0;34m=\u001b[0m\u001b[0;32mTrue\u001b[0m\u001b[0;34m)\u001b[0m\u001b[0;34m\u001b[0m\u001b[0;34m\u001b[0m\u001b[0m\n",
      "\u001b[0;31mUnboundLocalError\u001b[0m: local variable 'url' referenced before assignment"
     ]
    }
   ],
   "source": [
    "# Initialize\n",
    "bl = benfordslaw(alpha=0.05)\n",
    "\n",
    "# Load elections example\n",
    "df = bl.\n",
    "\n",
    "# Extract election information.\n",
    "X = x_normal\n",
    "\n",
    "# Print\n",
    "print(X)\n",
    "# array([ 5387, 23618,  1710, ...,    16,    21,     0], dtype=int64)\n",
    "\n",
    "# Make fit\n",
    "results = bl.fit(X)\n",
    "\n",
    "# Plot\n",
    "bl.plot(title='Donald Trump')"
   ]
  },
  {
   "cell_type": "code",
   "execution_count": 129,
   "id": "ed8738a4",
   "metadata": {},
   "outputs": [
    {
     "data": {
      "text/plain": [
       "array([2., 1., 1., ..., 3., 5., 2.])"
      ]
     },
     "execution_count": 129,
     "metadata": {},
     "output_type": "execute_result"
    }
   ],
   "source": [
    "benfords.fsd(x_normal)"
   ]
  },
  {
   "cell_type": "code",
   "execution_count": 114,
   "id": "d853fd87",
   "metadata": {},
   "outputs": [],
   "source": [
    "x_normal = np.random.normal(0, 1, 40000)"
   ]
  },
  {
   "cell_type": "code",
   "execution_count": 36,
   "id": "8301fa71",
   "metadata": {},
   "outputs": [],
   "source": [
    "x_exponencial = random.exponential(2.0, 40000)"
   ]
  },
  {
   "cell_type": "code",
   "execution_count": 37,
   "id": "c77b0c09",
   "metadata": {},
   "outputs": [],
   "source": [
    "x_gamma = np.random.gamma(1, 4, 40000)"
   ]
  },
  {
   "cell_type": "code",
   "execution_count": 38,
   "id": "7ad203b7",
   "metadata": {},
   "outputs": [],
   "source": [
    "x_uniforme = random.uniform(0.0, 1.0, 40000)"
   ]
  },
  {
   "cell_type": "code",
   "execution_count": 39,
   "id": "b6eab742",
   "metadata": {},
   "outputs": [],
   "source": [
    "y = x_uniforme ** 10"
   ]
  },
  {
   "cell_type": "markdown",
   "id": "dd774a56",
   "metadata": {},
   "source": [
    "### 4.- Extraemos el primer dígito distinto de cero haciendo la función digito_distinto_cero( ) y calculamos su frecuencia:"
   ]
  },
  {
   "cell_type": "code",
   "execution_count": 22,
   "id": "a9c4bcfd",
   "metadata": {
    "scrolled": true
   },
   "outputs": [
    {
     "data": {
      "text/plain": [
       "[4454, 4428, 4458, 4372, 4420, 4427, 4519, 4559, 4363]"
      ]
     },
     "execution_count": 22,
     "metadata": {},
     "output_type": "execute_result"
    }
   ],
   "source": [
    "miau_1 = digito_distinto_cero(x_normal)\n",
    "miau_1"
   ]
  },
  {
   "cell_type": "markdown",
   "id": "4037dff5",
   "metadata": {},
   "source": [
    "### 5.- Apliquemos la funcion benford( ) a las distribuciones"
   ]
  },
  {
   "cell_type": "code",
   "execution_count": 112,
   "id": "dbe12f8e",
   "metadata": {
    "scrolled": true
   },
   "outputs": [
    {
     "data": {
      "text/plain": [
       "9"
      ]
     },
     "execution_count": 112,
     "metadata": {},
     "output_type": "execute_result"
    }
   ],
   "source": [
    "benford_normal = benford(x_normal)\n",
    "len(benford_normal)"
   ]
  },
  {
   "cell_type": "code",
   "execution_count": 88,
   "id": "0af7f45e",
   "metadata": {},
   "outputs": [],
   "source": [
    "benford_exponencial = benford(x_exponencial)"
   ]
  },
  {
   "cell_type": "code",
   "execution_count": 89,
   "id": "a5c038f6",
   "metadata": {},
   "outputs": [],
   "source": [
    "benford_gamma = benford(x_gamma)"
   ]
  },
  {
   "cell_type": "code",
   "execution_count": 90,
   "id": "e1c9429e",
   "metadata": {},
   "outputs": [],
   "source": [
    "benford_y = benford(y)"
   ]
  },
  {
   "cell_type": "markdown",
   "id": "fa49e8e6",
   "metadata": {},
   "source": [
    "### La función benford nos regresa un dataframe, por lo que necesitamos \"sacar\" las columnas \"Expected Value\" y \"Actual Value\" y así poder hacer la frecuencia del primer dígito después del punto que sea distinto de cero"
   ]
  },
  {
   "cell_type": "code",
   "execution_count": 93,
   "id": "557522e8",
   "metadata": {},
   "outputs": [],
   "source": [
    "def expected_actual(benford):\n",
    "    col_one_list = benford['Expected Value'].tolist()\n",
    "    col_two_list = benford['Actual Value'].tolist()\n",
    "    return col_one_list, col_two_list"
   ]
  },
  {
   "cell_type": "markdown",
   "id": "9c0357fd",
   "metadata": {},
   "source": [
    "### 6.- Apliquemos digito_distinto_cero( ) a los cálculo de benford"
   ]
  },
  {
   "cell_type": "code",
   "execution_count": 101,
   "id": "caf39669",
   "metadata": {
    "scrolled": true
   },
   "outputs": [],
   "source": [
    "x_normal_expected, benford_actual_normal = expected_actual(benford_normal)\n",
    "digits_normal = digito_distinto_cero(benford_actual_normal)"
   ]
  },
  {
   "cell_type": "code",
   "execution_count": 108,
   "id": "08fd3d7c",
   "metadata": {},
   "outputs": [
    {
     "data": {
      "text/plain": [
       "[0.36015,\n",
       " 0.128375,\n",
       " 0.084425,\n",
       " 0.078775,\n",
       " 0.078,\n",
       " 0.0743,\n",
       " 0.06925,\n",
       " 0.06605,\n",
       " 0.060675]"
      ]
     },
     "execution_count": 108,
     "metadata": {},
     "output_type": "execute_result"
    }
   ],
   "source": [
    "benford_actual_normal"
   ]
  },
  {
   "cell_type": "code",
   "execution_count": 103,
   "id": "3d991a65",
   "metadata": {},
   "outputs": [],
   "source": [
    "x_exponencial_expected, benford_actual_exponencial = expected_actual(benford_exponencial)\n",
    "digits_exponencial = digito_distinto_cero(benford_actual_exponencial)"
   ]
  },
  {
   "cell_type": "code",
   "execution_count": 104,
   "id": "579f764c",
   "metadata": {},
   "outputs": [],
   "source": [
    "x_gamma_expected, benford_actual_gamma = expected_actual(benford_gamma)\n",
    "digits_gamma = digito_distinto_cero(benford_actual_gamma)"
   ]
  },
  {
   "cell_type": "code",
   "execution_count": 105,
   "id": "08c5bd65",
   "metadata": {
    "scrolled": true
   },
   "outputs": [],
   "source": [
    "y_expected, benford_actual_y = expected_actual(benford_y)\n",
    "digits_y = digito_distinto_cero(benford_actual_y)"
   ]
  },
  {
   "cell_type": "markdown",
   "id": "5f96cb76",
   "metadata": {},
   "source": [
    "### 6.- Hagamos la gráfica de la frecuencia de dichos dígitos"
   ]
  },
  {
   "cell_type": "code",
   "execution_count": 106,
   "id": "52b3726b",
   "metadata": {
    "scrolled": false
   },
   "outputs": [
    {
     "data": {
      "image/png": "[encoded data removed]",
      "text/plain": [
       "<Figure size 432x288 with 1 Axes>"
      ]
     },
     "metadata": {
      "needs_background": "light"
     },
     "output_type": "display_data"
    }
   ],
   "source": [
    "# benford_normal\n",
    "plt.plot(range(1,10), digits_normal, \"ob\")\n",
    "plt.plot(range(1,10), counts_elements(get_leading_digit(x_normal)), color='g')\n",
    "\n",
    "plt.show()"
   ]
  },
  {
   "cell_type": "code",
   "execution_count": 51,
   "id": "404bed66",
   "metadata": {},
   "outputs": [
    {
     "data": {
      "image/png": "[encoded data removed]",
      "text/plain": [
       "<Figure size 432x288 with 1 Axes>"
      ]
     },
     "metadata": {
      "needs_background": "light"
     },
     "output_type": "display_data"
    }
   ],
   "source": [
    "# benford_exponencial\n",
    "plt.plot(range(1,10), counts_elements(digits_exponencial), 'ob')\n",
    "plt.plot(range(1,10), counts_elements(get_leading_digit(x_exponencial)), color='g')\n",
    "\n",
    "plt.show()"
   ]
  },
  {
   "cell_type": "code",
   "execution_count": 52,
   "id": "3b0ae03c",
   "metadata": {},
   "outputs": [
    {
     "data": {
      "image/png": "[encoded data removed]",
      "text/plain": [
       "<Figure size 432x288 with 1 Axes>"
      ]
     },
     "metadata": {
      "needs_background": "light"
     },
     "output_type": "display_data"
    }
   ],
   "source": [
    "# benford_gamma\n",
    "plt.plot(range(1,10), counts_elements(digits_gamma), 'ob')\n",
    "plt.plot(range(1,10), counts_elements(get_leading_digit(x_gamma)), color='g')\n",
    "plt.show()"
   ]
  },
  {
   "cell_type": "code",
   "execution_count": 53,
   "id": "e5688a59",
   "metadata": {
    "scrolled": true
   },
   "outputs": [
    {
     "data": {
      "image/png": "[encoded data removed]",
      "text/plain": [
       "<Figure size 432x288 with 1 Axes>"
      ]
     },
     "metadata": {
      "needs_background": "light"
     },
     "output_type": "display_data"
    }
   ],
   "source": [
    "# benford_y\n",
    "plt.plot(range(1,10), counts_elements(digits_y), 'ob')\n",
    "plt.plot(range(1,10), counts_elements(get_leading_digit(y)), color='g')\n",
    "\n",
    "plt.show()"
   ]
  },
  {
   "cell_type": "code",
   "execution_count": 57,
   "id": "94c270cb",
   "metadata": {},
   "outputs": [
    {
     "data": {
      "text/plain": [
       "{'1': 4550,\n",
       " '2': 4469,\n",
       " '3': 4377,\n",
       " '4': 4456,\n",
       " '5': 4457,\n",
       " '6': 4384,\n",
       " '7': 4424,\n",
       " '8': 4379,\n",
       " '9': 4504}"
      ]
     },
     "execution_count": 57,
     "metadata": {},
     "output_type": "execute_result"
    }
   ],
   "source": [
    "letters = {\n",
    "    '1': 0,\n",
    "    '2': 0,\n",
    "    '3': 0,\n",
    "    '4': 0,\n",
    "    '5': 0,\n",
    "    '6': 0,\n",
    "    '7': 0,\n",
    "    '8': 0,\n",
    "    '9': 0\n",
    "}\n",
    "for n in x_normal:\n",
    "    n = n%1\n",
    "    n = str(n)[2:10]\n",
    "    n = int(n)\n",
    "    first_digit = str(n)[0]\n",
    "    letters[first_digit] += 1\n",
    "letters"
   ]
  },
  {
   "cell_type": "code",
   "execution_count": 60,
   "id": "638a2937",
   "metadata": {
    "scrolled": true
   },
   "outputs": [
    {
     "data": {
      "text/plain": [
       "{'1': 2452,\n",
       " '2': 5445,\n",
       " '3': 4872,\n",
       " '4': 3768,\n",
       " '5': 3128,\n",
       " '6': 2715,\n",
       " '7': 2033,\n",
       " '8': 1125,\n",
       " '9': 876}"
      ]
     },
     "execution_count": 60,
     "metadata": {},
     "output_type": "execute_result"
    }
   ],
   "source": [
    "letters = {\n",
    "    '1': 0,\n",
    "    '2': 0,\n",
    "    '3': 0,\n",
    "    '4': 0,\n",
    "    '5': 0,\n",
    "    '6': 0,\n",
    "    '7': 0,\n",
    "    '8': 0,\n",
    "    '9': 0\n",
    "}\n",
    "for n in benford_normal:\n",
    "    n = n%1\n",
    "    n = str(n)[2:10]\n",
    "    n = int(n)\n",
    "    first_digit = str(n)[0]\n",
    "    letters[first_digit] += 1\n",
    "letters"
   ]
  },
  {
   "cell_type": "code",
   "execution_count": 80,
   "id": "dcb3c944",
   "metadata": {
    "scrolled": true
   },
   "outputs": [
    {
     "data": {
      "text/plain": [
       "array([-1.28172895, -0.27737531, -0.05293862, ..., -0.55856458,\n",
       "        0.03856516, -0.1649934 ])"
      ]
     },
     "execution_count": 80,
     "metadata": {},
     "output_type": "execute_result"
    }
   ],
   "source": [
    "x_normal"
   ]
  },
  {
   "cell_type": "code",
   "execution_count": 81,
   "id": "b03a683a",
   "metadata": {
    "scrolled": false
   },
   "outputs": [
    {
     "data": {
      "text/plain": [
       "array([0.25046786, 0.66325071, 1.29863044, ..., 0.44565141, 1.43023856,\n",
       "       0.84885689])"
      ]
     },
     "execution_count": 81,
     "metadata": {},
     "output_type": "execute_result"
    }
   ],
   "source": [
    "benford_normal"
   ]
  },
  {
   "cell_type": "code",
   "execution_count": 67,
   "id": "6459662e",
   "metadata": {},
   "outputs": [
    {
     "data": {
      "text/html": [
       "<div>\n",
       "<style scoped>\n",
       "    .dataframe tbody tr th:only-of-type {\n",
       "        vertical-align: middle;\n",
       "    }\n",
       "\n",
       "    .dataframe tbody tr th {\n",
       "        vertical-align: top;\n",
       "    }\n",
       "\n",
       "    .dataframe thead th {\n",
       "        text-align: right;\n",
       "    }\n",
       "</style>\n",
       "<table border=\"1\" class=\"dataframe\">\n",
       "  <thead>\n",
       "    <tr style=\"text-align: right;\">\n",
       "      <th></th>\n",
       "      <th>Digit</th>\n",
       "      <th>Expected Value</th>\n",
       "      <th>Actual Value</th>\n",
       "      <th>Difference</th>\n",
       "    </tr>\n",
       "  </thead>\n",
       "  <tbody>\n",
       "    <tr>\n",
       "      <th>0</th>\n",
       "      <td>1</td>\n",
       "      <td>0.301030</td>\n",
       "      <td>0.360150</td>\n",
       "      <td>0.059120</td>\n",
       "    </tr>\n",
       "    <tr>\n",
       "      <th>1</th>\n",
       "      <td>2</td>\n",
       "      <td>0.176091</td>\n",
       "      <td>0.128375</td>\n",
       "      <td>-0.047716</td>\n",
       "    </tr>\n",
       "    <tr>\n",
       "      <th>2</th>\n",
       "      <td>3</td>\n",
       "      <td>0.124939</td>\n",
       "      <td>0.084425</td>\n",
       "      <td>-0.040514</td>\n",
       "    </tr>\n",
       "    <tr>\n",
       "      <th>3</th>\n",
       "      <td>4</td>\n",
       "      <td>0.096910</td>\n",
       "      <td>0.078775</td>\n",
       "      <td>-0.018135</td>\n",
       "    </tr>\n",
       "    <tr>\n",
       "      <th>4</th>\n",
       "      <td>5</td>\n",
       "      <td>0.079181</td>\n",
       "      <td>0.078000</td>\n",
       "      <td>-0.001181</td>\n",
       "    </tr>\n",
       "    <tr>\n",
       "      <th>5</th>\n",
       "      <td>6</td>\n",
       "      <td>0.066947</td>\n",
       "      <td>0.074300</td>\n",
       "      <td>0.007353</td>\n",
       "    </tr>\n",
       "    <tr>\n",
       "      <th>6</th>\n",
       "      <td>7</td>\n",
       "      <td>0.057992</td>\n",
       "      <td>0.069250</td>\n",
       "      <td>0.011258</td>\n",
       "    </tr>\n",
       "    <tr>\n",
       "      <th>7</th>\n",
       "      <td>8</td>\n",
       "      <td>0.051153</td>\n",
       "      <td>0.066050</td>\n",
       "      <td>0.014897</td>\n",
       "    </tr>\n",
       "    <tr>\n",
       "      <th>8</th>\n",
       "      <td>9</td>\n",
       "      <td>0.045757</td>\n",
       "      <td>0.060675</td>\n",
       "      <td>0.014918</td>\n",
       "    </tr>\n",
       "  </tbody>\n",
       "</table>\n",
       "</div>"
      ],
      "text/plain": [
       "  Digit  Expected Value  Actual Value  Difference\n",
       "0     1        0.301030      0.360150    0.059120\n",
       "1     2        0.176091      0.128375   -0.047716\n",
       "2     3        0.124939      0.084425   -0.040514\n",
       "3     4        0.096910      0.078775   -0.018135\n",
       "4     5        0.079181      0.078000   -0.001181\n",
       "5     6        0.066947      0.074300    0.007353\n",
       "6     7        0.057992      0.069250    0.011258\n",
       "7     8        0.051153      0.066050    0.014897\n",
       "8     9        0.045757      0.060675    0.014918"
      ]
     },
     "execution_count": 67,
     "metadata": {},
     "output_type": "execute_result"
    }
   ],
   "source": [
    "import benfords \n",
    "\n",
    "#Generate some random data\n",
    "test_data = x_normal\n",
    "\n",
    "#Compare to Benford's Law\n",
    "benfords.benfords(test_data)"
   ]
  }
 ],
 "metadata": {
  "kernelspec": {
   "display_name": "Python 3",
   "language": "python",
   "name": "python3"
  },
  "language_info": {
   "codemirror_mode": {
    "name": "ipython",
    "version": 3
   },
   "file_extension": ".py",
   "mimetype": "text/x-python",
   "name": "python",
   "nbconvert_exporter": "python",
   "pygments_lexer": "ipython3",
   "version": "3.8.8"
  }
 },
 "nbformat": 4,
 "nbformat_minor": 5
}
