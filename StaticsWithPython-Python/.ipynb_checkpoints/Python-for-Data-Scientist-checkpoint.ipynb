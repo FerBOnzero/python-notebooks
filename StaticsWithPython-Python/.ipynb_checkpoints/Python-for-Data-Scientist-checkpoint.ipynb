{
 "cells": [
  {
   "cell_type": "markdown",
   "id": "c5fe6696",
   "metadata": {},
   "source": [
    "## Python for Data Scientist"
   ]
  },
  {
   "cell_type": "markdown",
   "id": "c72e38d9",
   "metadata": {},
   "source": [
    "### Theory: \n",
    "Many languages use curly braces to delimit blocks of code. Python uses indentation"
   ]
  },
  {
   "cell_type": "code",
   "execution_count": 2,
   "id": "585ebb46",
   "metadata": {},
   "outputs": [
    {
     "data": {
      "text/plain": [
       "8"
      ]
     },
     "execution_count": 2,
     "metadata": {},
     "output_type": "execute_result"
    }
   ],
   "source": [
    "#You can also use a backslash to indicate that a statement continues onto the next line \n",
    "two_plus_three = 5 + \\\n",
    "                 3\n",
    "two_plus_three"
   ]
  },
  {
   "cell_type": "markdown",
   "id": "3a826774",
   "metadata": {},
   "source": [
    "### Strings"
   ]
  },
  {
   "cell_type": "code",
   "execution_count": 7,
   "id": "49bab41a",
   "metadata": {},
   "outputs": [
    {
     "data": {
      "text/plain": [
       "'\\t'"
      ]
     },
     "execution_count": 7,
     "metadata": {},
     "output_type": "execute_result"
    }
   ],
   "source": [
    "tab_string = \"\\t\" #represents the tab character\n",
    "tab_string"
   ]
  },
  {
   "cell_type": "code",
   "execution_count": 8,
   "id": "bedc319e",
   "metadata": {},
   "outputs": [
    {
     "name": "stdout",
     "output_type": "stream",
     "text": [
      "miau \t bebo\n"
     ]
    }
   ],
   "source": [
    "print(\"miau \\t bebo\")"
   ]
  },
  {
   "cell_type": "code",
   "execution_count": 9,
   "id": "48b33e6a",
   "metadata": {},
   "outputs": [
    {
     "name": "stdout",
     "output_type": "stream",
     "text": [
      "Fernando, What´s your last name? It´s Onofre\n"
     ]
    }
   ],
   "source": [
    "# format\n",
    "first_name = \"Fernando\"\n",
    "last_name = \"Onofre\"\n",
    "print(f\"{first_name}, What´s your last name? It´s {last_name}\")"
   ]
  },
  {
   "cell_type": "markdown",
   "id": "1bd00d33",
   "metadata": {},
   "source": [
    "### Functions"
   ]
  },
  {
   "cell_type": "code",
   "execution_count": 3,
   "id": "b0ac7c4c",
   "metadata": {},
   "outputs": [],
   "source": [
    "\"\"\"Python functions are first-class, which means that we can assign them to variables and pass them \n",
    "into functions just like any other arguments:\"\"\"\n",
    "def double(x): \n",
    "    return x*2\n",
    "\n",
    "def apply_to_one(f):\n",
    "    \"\"\"calls the function with 1 as its argument\"\"\"\n",
    "    return f(1)"
   ]
  },
  {
   "cell_type": "code",
   "execution_count": 4,
   "id": "68c7e28c",
   "metadata": {},
   "outputs": [
    {
     "data": {
      "text/plain": [
       "2"
      ]
     },
     "execution_count": 4,
     "metadata": {},
     "output_type": "execute_result"
    }
   ],
   "source": [
    "my_double = double #refers to the previously defined function\n",
    "x = apply_to_one(my_double)\n",
    "x"
   ]
  },
  {
   "cell_type": "markdown",
   "id": "3aa1fc6f",
   "metadata": {},
   "source": [
    "### Collections "
   ]
  },
  {
   "cell_type": "code",
   "execution_count": 10,
   "id": "ff06c210",
   "metadata": {},
   "outputs": [],
   "source": [
    "from collections import defaultdict"
   ]
  },
  {
   "cell_type": "code",
   "execution_count": 21,
   "id": "edc56753",
   "metadata": {
    "scrolled": true
   },
   "outputs": [
    {
     "data": {
      "text/plain": [
       "defaultdict(int,\n",
       "            {'H': 1,\n",
       "             'o': 4,\n",
       "             'l': 1,\n",
       "             'a': 2,\n",
       "             ' ': 3,\n",
       "             'F': 1,\n",
       "             'e': 1,\n",
       "             'r': 1,\n",
       "             'n': 2,\n",
       "             'd': 1,\n",
       "             ',': 1,\n",
       "             'm': 1,\n",
       "             'u': 2,\n",
       "             'c': 1,\n",
       "             'h': 1,\n",
       "             'g': 1,\n",
       "             's': 1,\n",
       "             't': 1})"
      ]
     },
     "execution_count": 21,
     "metadata": {},
     "output_type": "execute_result"
    }
   ],
   "source": [
    "word_counts = defaultdict(int)\n",
    "for word in \"Hola Fernando, mucho gusto\":\n",
    "    word_counts[word] += 1\n",
    "\n",
    "word_counts"
   ]
  },
  {
   "cell_type": "code",
   "execution_count": 14,
   "id": "ab2a0ae8",
   "metadata": {},
   "outputs": [
    {
     "data": {
      "text/plain": [
       "defaultdict(list, {2: [2]})"
      ]
     },
     "execution_count": 14,
     "metadata": {},
     "output_type": "execute_result"
    }
   ],
   "source": [
    "dd_list = defaultdict(list) #list() produces an empty list\n",
    "dd_list[2].append(2) \n",
    "dd_list"
   ]
  },
  {
   "cell_type": "code",
   "execution_count": 16,
   "id": "35233f51",
   "metadata": {},
   "outputs": [
    {
     "data": {
      "text/plain": [
       "defaultdict(dict, {1: 'miau'})"
      ]
     },
     "execution_count": 16,
     "metadata": {},
     "output_type": "execute_result"
    }
   ],
   "source": [
    "dd_dict = defaultdict(dict) #dict() produces an empty dict\n",
    "dd_dict[1] = \"miau\"\n",
    "dd_dict"
   ]
  },
  {
   "cell_type": "code",
   "execution_count": 17,
   "id": "87a42bf8",
   "metadata": {},
   "outputs": [
    {
     "data": {
      "text/plain": [
       "defaultdict(dict, {1: {'Fernando': ['Onofre']}})"
      ]
     },
     "execution_count": 17,
     "metadata": {},
     "output_type": "execute_result"
    }
   ],
   "source": [
    "dd_dict2 = defaultdict(dict)\n",
    "dd_dict2[1][\"Fernando\"] = [\"Onofre\"] \n",
    "dd_dict2"
   ]
  },
  {
   "cell_type": "code",
   "execution_count": 18,
   "id": "2bf4204e",
   "metadata": {},
   "outputs": [],
   "source": [
    "from collections import Counter"
   ]
  },
  {
   "cell_type": "code",
   "execution_count": 19,
   "id": "f078901e",
   "metadata": {},
   "outputs": [
    {
     "data": {
      "text/plain": [
       "Counter({1: 1, 2: 1, 3: 3, 4: 1})"
      ]
     },
     "execution_count": 19,
     "metadata": {},
     "output_type": "execute_result"
    }
   ],
   "source": [
    "c = Counter([1,2,3,3,3,4]) #Counter produces a dict where the key values are the values of the list \n",
    "c"
   ]
  },
  {
   "cell_type": "markdown",
   "id": "7e478928",
   "metadata": {},
   "source": [
    "#### We´ll use sets for two reasons. The first is that \"in\" is a very fast operations on sets. If we have a large collection of items we want to use for a membership test, a set is more appropiate than a list"
   ]
  },
  {
   "cell_type": "code",
   "execution_count": 26,
   "id": "8bae71d2",
   "metadata": {},
   "outputs": [
    {
     "data": {
      "text/plain": [
       "range(0, 10)"
      ]
     },
     "execution_count": 26,
     "metadata": {},
     "output_type": "execute_result"
    }
   ],
   "source": [
    "range(10) #produces the numbers 0,1,...,9"
   ]
  },
  {
   "cell_type": "markdown",
   "id": "aed79d54",
   "metadata": {},
   "source": [
    "### assert\n",
    "Commonly we use \"assert\" to expect values when we use comparative assignments"
   ]
  },
  {
   "cell_type": "code",
   "execution_count": 30,
   "id": "bc7ccb28",
   "metadata": {},
   "outputs": [],
   "source": [
    "assert 1 + 1 == 2"
   ]
  },
  {
   "cell_type": "code",
   "execution_count": 31,
   "id": "7b501dff",
   "metadata": {},
   "outputs": [],
   "source": [
    "assert 1+1 == 2, \"1+1 should equal 2 but didn't\""
   ]
  },
  {
   "cell_type": "code",
   "execution_count": 32,
   "id": "04210e37",
   "metadata": {},
   "outputs": [
    {
     "ename": "AssertionError",
     "evalue": "1+1 should equal 3 but didn't",
     "output_type": "error",
     "traceback": [
      "\u001b[0;31m---------------------------------------------------------------------------\u001b[0m",
      "\u001b[0;31mAssertionError\u001b[0m                            Traceback (most recent call last)",
      "\u001b[0;32m<ipython-input-32-e77358cf8917>\u001b[0m in \u001b[0;36m<module>\u001b[0;34m\u001b[0m\n\u001b[0;32m----> 1\u001b[0;31m \u001b[0;32massert\u001b[0m \u001b[0;36m1\u001b[0m \u001b[0;34m+\u001b[0m \u001b[0;36m1\u001b[0m \u001b[0;34m==\u001b[0m \u001b[0;36m3\u001b[0m\u001b[0;34m,\u001b[0m \u001b[0;34m\"1+1 should equal 3 but didn't\"\u001b[0m \u001b[0;31m#this is a hipotetical situation\u001b[0m\u001b[0;34m\u001b[0m\u001b[0;34m\u001b[0m\u001b[0m\n\u001b[0m",
      "\u001b[0;31mAssertionError\u001b[0m: 1+1 should equal 3 but didn't"
     ]
    }
   ],
   "source": [
    "assert 1 + 1 == 3, \"1+1 should equal 3 but didn't\" #this is a hipotetical situation "
   ]
  },
  {
   "cell_type": "markdown",
   "id": "1d984985",
   "metadata": {},
   "source": [
    "## lists"
   ]
  },
  {
   "cell_type": "code",
   "execution_count": 27,
   "id": "af66b71f",
   "metadata": {},
   "outputs": [
    {
     "name": "stdout",
     "output_type": "stream",
     "text": [
      "[1, 2, 3, 5, 6]\n"
     ]
    },
    {
     "data": {
      "text/plain": [
       "[1, 3, 5, 2, 6]"
      ]
     },
     "execution_count": 27,
     "metadata": {},
     "output_type": "execute_result"
    }
   ],
   "source": [
    "\"\"\"the sort method sorts list and replace them, in case of the function sorted, this don't \n",
    "change the list, for example\"\"\"\n",
    "x_list = [1,3,5,2,6]\n",
    "print(sorted(x_list))\n",
    "x_list"
   ]
  },
  {
   "cell_type": "code",
   "execution_count": 28,
   "id": "d6b9c0af",
   "metadata": {},
   "outputs": [
    {
     "data": {
      "text/plain": [
       "[1, 2, 3, 5, 6]"
      ]
     },
     "execution_count": 28,
     "metadata": {},
     "output_type": "execute_result"
    }
   ],
   "source": [
    "x_list.sort()\n",
    "x_list"
   ]
  },
  {
   "cell_type": "code",
   "execution_count": 29,
   "id": "d66a8012",
   "metadata": {},
   "outputs": [
    {
     "data": {
      "text/plain": [
       "[-5, 5, -4, 3, 2, 1]"
      ]
     },
     "execution_count": 29,
     "metadata": {},
     "output_type": "execute_result"
    }
   ],
   "source": [
    "#sort the list by absolute value from largest to smallest\n",
    "abs_list = sorted([-4,-5,3,2,5,1], key=abs, reverse=True)\n",
    "abs_list"
   ]
  }
 ],
 "metadata": {
  "kernelspec": {
   "display_name": "Python 3",
   "language": "python",
   "name": "python3"
  },
  "language_info": {
   "codemirror_mode": {
    "name": "ipython",
    "version": 3
   },
   "file_extension": ".py",
   "mimetype": "text/x-python",
   "name": "python",
   "nbconvert_exporter": "python",
   "pygments_lexer": "ipython3",
   "version": "3.8.8"
  }
 },
 "nbformat": 4,
 "nbformat_minor": 5
}
