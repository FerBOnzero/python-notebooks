{
 "cells": [
  {
   "attachments": {},
   "cell_type": "markdown",
   "id": "7ececd79",
   "metadata": {},
   "source": [
    "#  <font color='red'>Tareita 2</font>"
   ]
  },
  {
   "cell_type": "markdown",
   "id": "c9c2d0c1",
   "metadata": {},
   "source": [
    "### 1.- Importamos los modulos necesarios:"
   ]
  },
  {
   "cell_type": "code",
   "execution_count": 1,
   "id": "8f768941",
   "metadata": {},
   "outputs": [],
   "source": [
    "import numpy as np\n",
    "import matplotlib.pyplot as plt\n",
    "from numpy import random\n",
    "import re"
   ]
  },
  {
   "cell_type": "markdown",
   "id": "984e02de",
   "metadata": {},
   "source": [
    "### 2.- Creamos la función benford( ):"
   ]
  },
  {
   "cell_type": "code",
   "execution_count": 2,
   "id": "4e56256a",
   "metadata": {},
   "outputs": [],
   "source": [
    "def benford(d):\n",
    "    d = int(d)\n",
    "    benford = np.log10(1 + 1/d)\n",
    "    return benford"
   ]
  },
  {
   "cell_type": "markdown",
   "id": "6c89859b",
   "metadata": {},
   "source": [
    "### 3.- Generamos las distribuciones solicitadas"
   ]
  },
  {
   "cell_type": "code",
   "execution_count": 3,
   "id": "d853fd87",
   "metadata": {},
   "outputs": [],
   "source": [
    "x_normal = np.random.normal(0, 1, 40000)"
   ]
  },
  {
   "cell_type": "code",
   "execution_count": 4,
   "id": "8301fa71",
   "metadata": {},
   "outputs": [],
   "source": [
    "x_exponencial = random.exponential(2.0, 40000)"
   ]
  },
  {
   "cell_type": "code",
   "execution_count": 5,
   "id": "c77b0c09",
   "metadata": {},
   "outputs": [],
   "source": [
    "x_gamma = np.random.gamma(1, 4, 40000)"
   ]
  },
  {
   "cell_type": "code",
   "execution_count": 6,
   "id": "7ad203b7",
   "metadata": {},
   "outputs": [],
   "source": [
    "x_uniforme = random.uniform(0.0, 1.0, 40000)"
   ]
  },
  {
   "cell_type": "code",
   "execution_count": 7,
   "id": "b6eab742",
   "metadata": {},
   "outputs": [],
   "source": [
    "y = x_uniforme ** 10"
   ]
  },
  {
   "cell_type": "markdown",
   "id": "0d3788cc",
   "metadata": {},
   "source": [
    "### 4.- Extraemos el primer dígito distinto de cero haciendo la función digito_distinto_cero( ) y calculamos su frecuencia:"
   ]
  },
  {
   "cell_type": "code",
   "execution_count": 8,
   "id": "52367cf7",
   "metadata": {
    "scrolled": true
   },
   "outputs": [],
   "source": [
    "def digito_distinto_cero(array):\n",
    "    letters = {\n",
    "        '1': 0,\n",
    "        '2': 0,\n",
    "        '3': 0,\n",
    "        '4': 0,\n",
    "        '5': 0,\n",
    "        '6': 0,\n",
    "        '7': 0,\n",
    "        '8': 0,\n",
    "        '9': 0\n",
    "    }\n",
    "    for n in array:\n",
    "        n = str(n)\n",
    "        num_list = re.findall(r'\\d+', n)\n",
    "        n = num_list[1]\n",
    "        n = int(n)\n",
    "        n = str(n)[0]\n",
    "        letters[n] += 1\n",
    "    return list(letters.values())"
   ]
  },
  {
   "cell_type": "markdown",
   "id": "7de74481",
   "metadata": {},
   "source": [
    "### 5.- Apliquemos la funcion digito_distinto_cero( ) a las distribuciones"
   ]
  },
  {
   "cell_type": "code",
   "execution_count": 9,
   "id": "bf37ce27",
   "metadata": {
    "scrolled": true
   },
   "outputs": [],
   "source": [
    "frecuencia_normal = digito_distinto_cero(x_normal)"
   ]
  },
  {
   "cell_type": "code",
   "execution_count": 10,
   "id": "ce6cf5eb",
   "metadata": {},
   "outputs": [],
   "source": [
    "frecuencia_exponencial = digito_distinto_cero(x_exponencial)"
   ]
  },
  {
   "cell_type": "code",
   "execution_count": 11,
   "id": "a91aee37",
   "metadata": {},
   "outputs": [],
   "source": [
    "frecuencia_gamma = digito_distinto_cero(x_gamma)"
   ]
  },
  {
   "cell_type": "code",
   "execution_count": 12,
   "id": "597c3436",
   "metadata": {},
   "outputs": [],
   "source": [
    "frecuencia_y = digito_distinto_cero(y)"
   ]
  },
  {
   "cell_type": "markdown",
   "id": "a62b1f77",
   "metadata": {},
   "source": [
    "### 6.- Apliquemos la función benford( ) para calcular las probabilidades del rango 1 a 9 (contemplando al 9)"
   ]
  },
  {
   "cell_type": "code",
   "execution_count": 13,
   "id": "b25c11f3",
   "metadata": {
    "scrolled": false
   },
   "outputs": [],
   "source": [
    "probabilities = []\n",
    "for i in range(1, 10):\n",
    "    probabilities.append(benford(i)*40000)"
   ]
  },
  {
   "cell_type": "markdown",
   "id": "b31de17b",
   "metadata": {},
   "source": [
    "### 6.- Hagamos la gráfica de la frecuencia de los dígitos distintos de cero después del punto de las distribuciones"
   ]
  },
  {
   "cell_type": "code",
   "execution_count": 21,
   "id": "81e482f2",
   "metadata": {
    "scrolled": false
   },
   "outputs": [
    {
     "data": {
      "image/png": "[encoded data removed]",
      "text/plain": [
       "<Figure size 432x288 with 1 Axes>"
      ]
     },
     "metadata": {
      "needs_background": "light"
     },
     "output_type": "display_data"
    }
   ],
   "source": [
    "# benford_normal\n",
    "plt.plot(range(1,10), frecuencia_normal, color='b', label='Valores observados')\n",
    "\n",
    "plt.plot(range(1,10), probabilities, color='g', label='Valores esperados')\n",
    "plt.legend()\n",
    "\n",
    "plt.show()"
   ]
  },
  {
   "cell_type": "code",
   "execution_count": 15,
   "id": "5b59f76e",
   "metadata": {},
   "outputs": [
    {
     "data": {
      "image/png": "[encoded data removed]",
      "text/plain": [
       "<Figure size 432x288 with 1 Axes>"
      ]
     },
     "metadata": {
      "needs_background": "light"
     },
     "output_type": "display_data"
    }
   ],
   "source": [
    "# benford_exponencial\n",
    "plt.plot(range(1,10), frecuencia_exponencial, color='b', label='Valores observados')\n",
    "\n",
    "plt.plot(range(1,10), probabilities, color='g', label='Valores esperados')\n",
    "plt.legend()\n",
    "plt.show()"
   ]
  },
  {
   "cell_type": "code",
   "execution_count": 16,
   "id": "360d991d",
   "metadata": {},
   "outputs": [
    {
     "data": {
      "image/png": "[encoded data removed]",
      "text/plain": [
       "<Figure size 432x288 with 1 Axes>"
      ]
     },
     "metadata": {
      "needs_background": "light"
     },
     "output_type": "display_data"
    }
   ],
   "source": [
    "# benford_gamma\n",
    "plt.plot(range(1,10), frecuencia_gamma, color='b', label='Valores observados')\n",
    "\n",
    "plt.plot(range(1,10), probabilities, color='g', label='Valores esperados')\n",
    "plt.legend()\n",
    "plt.show()"
   ]
  },
  {
   "cell_type": "code",
   "execution_count": 17,
   "id": "a63e8daf",
   "metadata": {
    "scrolled": true
   },
   "outputs": [
    {
     "data": {
      "image/png": "[encoded data removed]",
      "text/plain": [
       "<Figure size 432x288 with 1 Axes>"
      ]
     },
     "metadata": {
      "needs_background": "light"
     },
     "output_type": "display_data"
    }
   ],
   "source": [
    "# benford_y\n",
    "plt.plot(range(1,10), frecuencia_y, color='b', label='Valores observados')\n",
    "\n",
    "plt.plot(range(1,10), probabilities, color='g', label='Valores esperados')\n",
    "plt.legend()\n",
    "plt.show()"
   ]
  }
 ],
 "metadata": {
  "kernelspec": {
   "display_name": "Python 3",
   "language": "python",
   "name": "python3"
  },
  "language_info": {
   "codemirror_mode": {
    "name": "ipython",
    "version": 3
   },
   "file_extension": ".py",
   "mimetype": "text/x-python",
   "name": "python",
   "nbconvert_exporter": "python",
   "pygments_lexer": "ipython3",
   "version": "3.8.8"
  }
 },
 "nbformat": 4,
 "nbformat_minor": 5
}
