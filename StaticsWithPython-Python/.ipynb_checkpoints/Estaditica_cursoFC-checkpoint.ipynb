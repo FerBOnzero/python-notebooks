{
 "cells": [
  {
   "cell_type": "code",
   "execution_count": 1,
   "id": "4870d1b0",
   "metadata": {},
   "outputs": [],
   "source": [
    "import numpy as np\n",
    "import matplotlib.pyplot as plt\n",
    "from scipy.stats import norm, kurtosis"
   ]
  },
  {
   "cell_type": "markdown",
   "id": "2788483b",
   "metadata": {},
   "source": [
    "## Creación de los números aleatorios de la distribución normal"
   ]
  },
  {
   "cell_type": "markdown",
   "id": "30a900a6",
   "metadata": {},
   "source": [
    "#### 1) N(0,1),  (mil números aleatorios de esta)"
   ]
  },
  {
   "cell_type": "code",
   "execution_count": 2,
   "id": "e02dc2d9",
   "metadata": {},
   "outputs": [],
   "source": [
    "data_1 = np.random.normal(0, 1, 1000)"
   ]
  },
  {
   "cell_type": "code",
   "execution_count": 3,
   "id": "d36c8fe7",
   "metadata": {
    "scrolled": true
   },
   "outputs": [
    {
     "data": {
      "image/png": "[encoded data removed]",
      "text/plain": [
       "<Figure size 432x288 with 1 Axes>"
      ]
     },
     "metadata": {
      "needs_background": "light"
     },
     "output_type": "display_data"
    }
   ],
   "source": [
    "# histograma de distribución normal.\n",
    "cuenta, cajas, ignorar = plt.hist(data_1, 20)\n",
    "plt.ylabel('frequencia')\n",
    "plt.xlabel('valores')\n",
    "plt.title('Histograma')\n",
    "plt.show()"
   ]
  },
  {
   "cell_type": "markdown",
   "id": "53b2e193",
   "metadata": {},
   "source": [
    "#### 2) N(0,5) (mil números aleatorios de esta)"
   ]
  },
  {
   "cell_type": "code",
   "execution_count": 4,
   "id": "73432a4c",
   "metadata": {},
   "outputs": [],
   "source": [
    "data_2 = np.random.normal(0, 5, 1000)"
   ]
  },
  {
   "cell_type": "code",
   "execution_count": 5,
   "id": "0d8930cf",
   "metadata": {},
   "outputs": [
    {
     "data": {
      "image/png": "[encoded data removed]",
      "text/plain": [
       "<Figure size 432x288 with 1 Axes>"
      ]
     },
     "metadata": {
      "needs_background": "light"
     },
     "output_type": "display_data"
    }
   ],
   "source": [
    "# histograma de distribución normal.\n",
    "cuenta, cajas, ignorar = plt.hist(data_2, 20)\n",
    "plt.ylabel('frequencia')\n",
    "plt.xlabel('valores')\n",
    "plt.title('Histograma')\n",
    "plt.show()"
   ]
  },
  {
   "cell_type": "markdown",
   "id": "410c132c",
   "metadata": {},
   "source": [
    "#### 3) N(0,0.4) (mil números aleatorios de esta)"
   ]
  },
  {
   "cell_type": "code",
   "execution_count": 6,
   "id": "ee14b14d",
   "metadata": {},
   "outputs": [],
   "source": [
    "data_3 = np.random.normal(0, 0.04, 1000)"
   ]
  },
  {
   "cell_type": "code",
   "execution_count": 7,
   "id": "bc5bfca4",
   "metadata": {},
   "outputs": [
    {
     "data": {
      "image/png": "[encoded data removed]",
      "text/plain": [
       "<Figure size 432x288 with 1 Axes>"
      ]
     },
     "metadata": {
      "needs_background": "light"
     },
     "output_type": "display_data"
    }
   ],
   "source": [
    "# histograma de distribución normal.\n",
    "cuenta, cajas, ignorar = plt.hist(data_3, 20)\n",
    "plt.ylabel('frequencia')\n",
    "plt.xlabel('valores')\n",
    "plt.title('Histograma')\n",
    "plt.show()"
   ]
  },
  {
   "cell_type": "markdown",
   "id": "28211368",
   "metadata": {},
   "source": [
    "## Creación de función que calcule la curtosis muestral"
   ]
  },
  {
   "cell_type": "code",
   "execution_count": 8,
   "id": "d4973f05",
   "metadata": {},
   "outputs": [],
   "source": [
    "def curtosis_muestral(data) -> float:\n",
    "    #sumatorias\n",
    "    sum_1 = 0\n",
    "    for i in range(len(data)):\n",
    "        sum_1+=(data[i]-np.mean(data))**4\n",
    "    sum_2 = 0\n",
    "    for i in range(len(data)):\n",
    "        sum_2+=(data[i]-np.mean(data))**2\n",
    "        \n",
    "    #realización de la división\n",
    "    division_K = ((1/len(data_1))*(sum_1))/(((1/len(data_1))*(sum_2))**2)\n",
    "    \n",
    "    #sustracción de la división\n",
    "    kurtosis_data = division_K-3\n",
    "    \n",
    "    #regreso de la función\n",
    "    return kurtosis_data"
   ]
  },
  {
   "cell_type": "markdown",
   "id": "b1217ed2",
   "metadata": {},
   "source": [
    "## Cálculo de curtosis utilizando la función curtosis_muestral y comprobación utilizando la función de el modulo scipy.stats de Python"
   ]
  },
  {
   "cell_type": "code",
   "execution_count": 9,
   "id": "12713a4b",
   "metadata": {
    "scrolled": true
   },
   "outputs": [
    {
     "name": "stdout",
     "output_type": "stream",
     "text": [
      " Utilizando la función \"curtosis_muestral\":  0.025691663016857547 \n",
      " Utilizando la función \"kurtosis\":  0.02569166301686243\n"
     ]
    }
   ],
   "source": [
    "print(' Utilizando la función \"curtosis_muestral\": ',curtosis_muestral(data_1),\n",
    "      '\\n', 'Utilizando la función \"kurtosis\": ', kurtosis(data_1))"
   ]
  },
  {
   "cell_type": "code",
   "execution_count": 10,
   "id": "938d3e93",
   "metadata": {},
   "outputs": [
    {
     "name": "stdout",
     "output_type": "stream",
     "text": [
      " Utilizando la función \"curtosis_muestral\":  -0.12816415480868848 \n",
      " Utilizando la función \"kurtosis\":  -0.12816415480869692\n"
     ]
    }
   ],
   "source": [
    "print(' Utilizando la función \"curtosis_muestral\": ',curtosis_muestral(data_2),\n",
    "      '\\n', 'Utilizando la función \"kurtosis\": ', kurtosis(data_2))"
   ]
  },
  {
   "cell_type": "code",
   "execution_count": 11,
   "id": "eac1f938",
   "metadata": {},
   "outputs": [
    {
     "name": "stdout",
     "output_type": "stream",
     "text": [
      " Utilizando la función \"curtosis_muestral\":  0.22505705564834955 \n",
      " Utilizando la función \"kurtosis\":  0.22505705564834377\n"
     ]
    }
   ],
   "source": [
    "print(' Utilizando la función \"curtosis_muestral\": ',curtosis_muestral(data_3),\n",
    "      '\\n', 'Utilizando la función \"kurtosis\": ', kurtosis(data_3))"
   ]
  }
 ],
 "metadata": {
  "kernelspec": {
   "display_name": "Python 3",
   "language": "python",
   "name": "python3"
  },
  "language_info": {
   "codemirror_mode": {
    "name": "ipython",
    "version": 3
   },
   "file_extension": ".py",
   "mimetype": "text/x-python",
   "name": "python",
   "nbconvert_exporter": "python",
   "pygments_lexer": "ipython3",
   "version": "3.8.8"
  }
 },
 "nbformat": 4,
 "nbformat_minor": 5
}
